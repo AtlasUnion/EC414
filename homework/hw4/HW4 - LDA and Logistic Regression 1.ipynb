{
 "cells": [
  {
   "cell_type": "markdown",
   "metadata": {},
   "source": [
    "**EC 414 - Spring 2019**\n",
    "\n",
    "**HW 4 - QDA/LDA & Logistic Regression 1**\n",
    "\n",
    "Due:  Wednesday Feb 27 (In class)"
   ]
  },
  {
   "cell_type": "markdown",
   "metadata": {},
   "source": [
    "**1) Obtaining QDA & LDA Decision Rules: **\n",
    "\n",
    "In this problem, we will consider Quadratic and Linear Discriminant Analysis for $m$ classes where $y \\in \\{1,...,m \\}$ represents a class index. In class, we looked at the simple 2-class LDA. Using the MPE (Most Probable Explanation) rule: \n",
    "\n",
    "$h_{MPE} (\\boldsymbol{x})= \\text{argmax}_{y} p(y|\\boldsymbol{x},\\theta)$, \n",
    "\n",
    "obtain the QDA & LDA decision rules: \n",
    "\n",
    "$h_{QDA} (\\boldsymbol{x}) = \\text{argmin}_y [\\frac{1}{2} (\\boldsymbol{x}-\\boldsymbol{\\mu}_y)^T \\Sigma_y^{-1} (\\boldsymbol{x}-\\boldsymbol{\\mu}_y) + \\frac{1}{2} \\text{log} (\\text{det}(\\Sigma_y)) - \\text{log} (p(y))]$,\n",
    "\n",
    "$h_{LDA} (\\boldsymbol{x}) = \\text{argmax}_y [(\\boldsymbol{\\mu}_y^T \\Sigma^{-1} ) \\cdot \\boldsymbol{x} - \\frac{1}{2} \\boldsymbol{\\mu}_y^T \\Sigma^{-1} \\boldsymbol{\\mu}_y + \\text{log}(p(y))]$.\n",
    "\n",
    "Please show all intermediate steps in your analysis. As a tip, it may be expedient to use Bayes Rule in your analysis along with the fact that, for QDA:\n",
    "\n",
    "$p(\\boldsymbol{x}|y,\\theta) = N(\\boldsymbol{\\mu}_y,\\Sigma_y)(\\boldsymbol{x}) = \\frac{1}{((2 \\pi)^d \\text{ det}(\\Sigma_y))^{1/2}} e^{\\frac{-1}{2} (\\boldsymbol{x}-\\boldsymbol{\\mu}_y)^T \\Sigma_y^{-1} (\\boldsymbol{x}-\\boldsymbol{\\mu}_y)}$, \n",
    "\n",
    "and for LDA:\n",
    "\n",
    "$ \\Sigma_y = \\Sigma \\text{ } \\forall \\text{ } y \\in \\{1,...,m \\}$.\n",
    "\n",
    "\n"
   ]
  },
  {
   "cell_type": "markdown",
   "metadata": {},
   "source": [
    "(1)\n",
    "<br>\n",
    "LDA: \n",
    "<br>\n",
    "<br>\n",
    "$h_{LDA} (x) $\n",
    "<br>\n",
    "$ = \\text{argmax}_{y} p(y|x,\\theta) $\n",
    "<br>\n",
    "$ = \\text{argmax}_{y} p(x, \\theta|y)p(y)$ \n",
    "<br>\n",
    "$ = \\text{argmax}_{y} ln(p(x, \\theta|y)p(y))$\n",
    "<br>\n",
    "$ = \\text{argmax}_{y} (ln(p(x, \\theta|y)) + ln(p(y)))$\n",
    "<br>\n",
    "$ = \\text{argmax}_{y} (ln( \\frac{1}{((2 \\pi)^d \\text{ det}(\\Sigma))^{1/2}} e^{-\\frac{1}{2} (x-\\boldsymbol{\\mu}_y)^T \\Sigma^{-1} (x-\\boldsymbol{\\mu}_y)} ) + ln(p(y)))$\n",
    "<br>\n",
    "$ = \\text{argmax}_{y} ( ln(\\frac{1}{((2 \\pi)^d \\text{ det}(\\Sigma))^{1/2}}) - \\frac{1}{2} (x-\\boldsymbol{\\mu}_y)^T \\Sigma^{-1} (x-\\boldsymbol{\\mu}_y) + ln(p(y)) )$\n",
    "<br>\n",
    "$ = \\text{argmax}_{y} (  - \\frac{1}{2} (x-\\boldsymbol{\\mu}_y)^T \\Sigma^{-1} (x-\\boldsymbol{\\mu}_y) + ln(p(y)) )$\n",
    "<br>\n",
    "$ = \\text{argmax}_{y} ( -\\frac{1}{2}x^T\\Sigma^{-1}x^T + \\frac{1}{2}\\mu_y^T\\Sigma^{-1}x + \\frac{1}{2}x^T\\Sigma^{-1}\\mu_y - \\frac{1}{2}\\mu_y^T\\Sigma^{-1}\\mu_y + ln(p(y))) $\n",
    "<br>\n",
    "$ = \\text{argmax}_{y} ( \\frac{1}{2}\\mu_y^T\\Sigma^{-1}x + \\frac{1}{2}x^T\\Sigma^{-1}\\mu_y - \\frac{1}{2}\\mu_y^T\\Sigma^{-1}\\mu_y + ln(p(y))) $\n",
    "<br>\n",
    "$ = \\text{argmax}_{y} ( \\frac{1}{2}\\mu_y^T\\Sigma^{-1}x + \\frac{1}{2}\\mu_y^T\\Sigma^{-1}x - \\frac{1}{2}\\mu_y^T\\Sigma^{-1}\\mu_y + ln(p(y))) $\n",
    "<br>\n",
    "$ = \\text{argmax}_{y} ( \\mu_y^T\\Sigma^{-1}x - \\frac{1}{2}\\mu_y^T\\Sigma^{-1}\\mu_y + ln(p(y))) $\n",
    "<br>\n",
    "<br>\n",
    "QDA:\n",
    "<br>\n",
    "<br>\n",
    "$h_{QDA}(x)$\n",
    "<br>\n",
    "$ = \\text{argmax}_{y} p(y|x,\\theta) $\n",
    "<br>\n",
    "$ = \\text{argmax}_{y} p(x, \\theta|y)p(y)$ \n",
    "<br>\n",
    "$ = \\text{argmax}_{y} ln(p(x, \\theta|y)p(y))$\n",
    "<br>\n",
    "$ = \\text{argmax}_{y} (ln(p(x, \\theta|y)) + ln(p(y)))$\n",
    "<br>\n",
    "$ = \\text{argmax}_{y} (ln( \\frac{1}{((2 \\pi)^d \\text{ det}(\\Sigma_y))^{1/2}} e^{-\\frac{1}{2} (x-\\boldsymbol{\\mu}_y)^T \\Sigma_y^{-1} (x-\\boldsymbol{\\mu}_y)} ) + ln(p(y)))$\n",
    "<br>\n",
    "$ = \\text{argmax}_{y} ( ln(\\frac{1}{((2 \\pi)^d \\text{ det}(\\Sigma_y))^{1/2}}) - \\frac{1}{2} (x-\\boldsymbol{\\mu}_y)^T \\Sigma_y^{-1} (x-\\boldsymbol{\\mu}_y) + ln(p(y)) )$\n",
    "<br>\n",
    "$ = \\text{argmax}_{y} ( -\\frac{1}{2}ln({((2 \\pi)^d \\text{ det}(\\Sigma_y))}) - \\frac{1}{2} (x-\\boldsymbol{\\mu}_y)^T \\Sigma_y^{-1} (x-\\boldsymbol{\\mu}_y) + ln(p(y)) )$\n",
    "<br>\n",
    "$ = \\text{argmax}_{y} ( -\\frac{1}{2}ln({(2 \\pi)^d}) -\\frac{1}{2}ln(\\text{ det}(\\Sigma_y)) - \\frac{1}{2} (x-\\boldsymbol{\\mu}_y)^T \\Sigma_y^{-1} (x-\\boldsymbol{\\mu}_y) + ln(p(y)) )$\n",
    "<br>\n",
    "$ = \\text{argmax}_{y} (-\\frac{1}{2}ln(\\text{ det}(\\Sigma_y)) - \\frac{1}{2} (x-\\boldsymbol{\\mu}_y)^T \\Sigma_y^{-1} (x-\\boldsymbol{\\mu}_y) + ln(p(y)) )$\n",
    "<br>\n",
    "$ = \\text{argmin}_{y} (\\frac{1}{2}ln(\\text{ det}(\\Sigma_y)) + \\frac{1}{2} (x-\\boldsymbol{\\mu}_y)^T \\Sigma_y^{-1} (x-\\boldsymbol{\\mu}_y) - ln(p(y)) )$"
   ]
  },
  {
   "cell_type": "markdown",
   "metadata": {},
   "source": [
    "**2) Implementation of LDA**\n",
    "\n",
    "In this problem, we will explore the implementation and application of LDA on an artificial dataset. Using any built in Python command/function for LDA in this problem is prohibited.  "
   ]
  },
  {
   "cell_type": "markdown",
   "metadata": {},
   "source": [
    "a) Generate $3$ $2$D Gaussian clusters of data with the following means and covariances:\n",
    "\n",
    "$\\boldsymbol{\\mu}_1 = [2,2]^T, \\boldsymbol{\\mu}_2 = [-7,-7]^T, \\boldsymbol{\\mu}_3 = [-8,-1]^T$,\n",
    "\n",
    "$\\Sigma = [[0.5,0];[0,0.5]]$.\n",
    "\n",
    "Let each cluster of data have $500$ points. Plot the generated Gaussian data."
   ]
  },
  {
   "cell_type": "code",
   "execution_count": 107,
   "metadata": {},
   "outputs": [
    {
     "data": {
      "text/plain": [
       "<matplotlib.legend.Legend at 0x7fa759b37c88>"
      ]
     },
     "execution_count": 107,
     "metadata": {},
     "output_type": "execute_result"
    },
    {
     "data": {
      "image/png": "[encoded data removed]",
      "text/plain": [
       "<Figure size 432x288 with 1 Axes>"
      ]
     },
     "metadata": {
      "needs_background": "light"
     },
     "output_type": "display_data"
    }
   ],
   "source": [
    "# Write code here:\n",
    "import numpy as np\n",
    "from matplotlib import pyplot as plt\n",
    "from sklearn.model_selection import train_test_split\n",
    "from numpy.linalg import inv\n",
    "from sklearn.metrics import accuracy_score\n",
    "\n",
    "def scatter_plot(x_axis, y_axis, x_label, y_label, color, marker, name, title = ''):\n",
    "    plt.scatter(x_axis, y_axis, c = color, marker = marker ,label = name, zorder = 3)\n",
    "    plt.xlabel(x_label)\n",
    "    plt.grid(zorder=0)\n",
    "    plt.ylabel(y_label)\n",
    "    if (title != ''):\n",
    "        plt.title(title)\n",
    "        \n",
    "mean_one = np.array([2,2])\n",
    "mean_two = np.array([-7,-7])\n",
    "mean_three = np.array([-8,-1])\n",
    "covariance = np.array([[0.5,0],[0,0.5]])\n",
    "one = np.random.multivariate_normal(mean_one, covariance, 500)\n",
    "two = np.random.multivariate_normal(mean_two, covariance, 500)\n",
    "three = np.random.multivariate_normal(mean_three, covariance, 500)\n",
    "x_one = [i[0] for i in one]\n",
    "y_one = [i[1] for i in one]\n",
    "x_two = [i[0] for i in two]\n",
    "y_two = [i[1] for i in two]\n",
    "x_three = [i[0] for i in three]\n",
    "y_three = [i[1] for i in three]\n",
    "\n",
    "scatter_plot(x_one, y_one, \"x\", \"y\", 'b', 'x', 'class 1',\"Visualizing Gaussian Data\")\n",
    "scatter_plot(x_two, y_two, \"x\", \"y\", 'g', 'x', 'class 2')\n",
    "scatter_plot(x_three, y_three, \"x\", \"y\", 'r', 'x', 'class 3')\n",
    "plt.axis('equal')\n",
    "plt.xticks(np.arange(-12, 7, 2.0))\n",
    "plt.legend(loc = 'right', bbox_to_anchor=(1.3, 0.5))"
   ]
  },
  {
   "cell_type": "markdown",
   "metadata": {},
   "source": [
    "b) Randomly split all the data and labels into training and testing sets using an $85\\%$/$15\\%$  train/test split. "
   ]
  },
  {
   "cell_type": "code",
   "execution_count": 56,
   "metadata": {},
   "outputs": [],
   "source": [
    "# Write code here:\n",
    "one_ext = [[i,1] for i in one]\n",
    "two_ext = [[i,2] for i in two]\n",
    "three_ext = [[i,3] for i in three]\n",
    "all_data = one_ext + two_ext + three_ext\n",
    "x_train, x_test = train_test_split(all_data, test_size=0.15)\n",
    "\n",
    "x_train_one = []\n",
    "x_train_two = []\n",
    "x_train_three = []\n",
    "for i in x_train:\n",
    "    if i[1] == 1:\n",
    "        x_train_one.append(i[0])\n",
    "    elif i[1] == 2:\n",
    "        x_train_two.append(i[0])\n",
    "    else:\n",
    "        x_train_three.append(i[0])"
   ]
  },
  {
   "cell_type": "markdown",
   "metadata": {},
   "source": [
    "c) Obtain the necessary parameter values for ($\\widehat{\\boldsymbol{\\mu}}_y \\text{ } \\forall \\text{ } y$,$\\widehat{\\Sigma}$,$\\widehat{p}(y)$) used for obtaining the LDA decision rule derived in Q$1$.  As a reminder, the preceding values can be obtained as:\n",
    "\n",
    "$\\widehat{p}(y) = \\frac{n_y}{n}$,\n",
    "\n",
    "$\\widehat{\\boldsymbol{\\mu}}_y = \\frac{1}{n_y} \\sum_{i \\in \\{ 1,...,n\\}: y = y_j} \\boldsymbol{x}_i$,\n",
    "\n",
    "$\\widehat{\\Sigma} = \\frac{1}{n} \\sum_{i=1}^n (\\boldsymbol{x}_i-\\widehat{\\boldsymbol{\\mu}}_{y_i})(\\boldsymbol{x}_i-\\widehat{\\boldsymbol{\\mu}}_{y_i})^T$,\n",
    "\n",
    "where $n$ is the number of training data points and $n_y$ is the number of occurrences of class $y$ in the training set. \n",
    "\n",
    "Please display the resulting values of the preceding variables using print statements.  "
   ]
  },
  {
   "cell_type": "code",
   "execution_count": 57,
   "metadata": {},
   "outputs": [
    {
     "name": "stdout",
     "output_type": "stream",
     "text": [
      "p:\n",
      " [[0.33333333 0.33490566 0.3341195 ]]\n",
      "Empirical means:\n",
      " [[ 2.04253173  2.00203957]\n",
      " [-6.94899332 -7.01476511]\n",
      " [-7.98771679 -0.97571579]]\n",
      "Covariance matrix:\n",
      " [[ 0.51207669 -0.02053594]\n",
      " [-0.02053594  0.48203662]]\n"
     ]
    }
   ],
   "source": [
    "# Write code here:\n",
    "total_num_of_data = 3*len(x_train_one)\n",
    "\n",
    "p_y = np.zeros((1,3))\n",
    "p_y[0][0] = len(x_train_one)/total_num_of_data\n",
    "p_y[0][1] = len(x_train_two)/total_num_of_data\n",
    "p_y[0][2] = len(x_train_three)/total_num_of_data\n",
    "\n",
    "mean = np.zeros((3,2))\n",
    "for i in range(len(x_train_one)):\n",
    "    mean[0] += x_train_one[i]\n",
    "for i in range(len(x_train_two)):\n",
    "    mean[1] += x_train_two[i]\n",
    "for i in range(len(x_train_three)):\n",
    "    mean[2] += x_train_three[i]\n",
    "\n",
    "mean[0] /= len(x_train_one)\n",
    "mean[1] /= len(x_train_two)\n",
    "mean[2] /= len(x_train_three)\n",
    "\n",
    "covariance = np.zeros((2,2))\n",
    "tmp = np.zeros((2,2))\n",
    "for i in x_train_one:\n",
    "    tmp += (i - mean[0])*((i-mean[0]).reshape(1,2).T)\n",
    "covariance += tmp/total_num_of_data\n",
    "tmp = np.zeros((2,2))\n",
    "for i in x_train_two:\n",
    "    tmp += (i - mean[1])*((i-mean[1]).reshape(1,2).T)\n",
    "covariance += tmp/total_num_of_data\n",
    "tmp = np.zeros((2,2))\n",
    "for i in x_train_three:\n",
    "    tmp += (i - mean[2])*((i-mean[2]).reshape(1,2).T)\n",
    "covariance += tmp/total_num_of_data\n",
    "tmp = np.zeros((2,2))\n",
    "print(\"p:\\n\", p_y)\n",
    "print(\"Empirical means:\\n\", mean)\n",
    "print(\"Covariance matrix:\\n\",covariance)"
   ]
  },
  {
   "cell_type": "markdown",
   "metadata": {},
   "source": [
    "d) Since we know ($\\widehat{\\boldsymbol{\\mu}}_y \\text{ } \\forall \\text{ } y$,$\\widehat{\\Sigma}$,$\\widehat{p}(y)$), we can in turn obtain the LDA decision rule. Let:\n",
    "\n",
    "$\\boldsymbol{\\beta}_y = \\Sigma^{-1} \\boldsymbol{\\mu}_y $,\n",
    "\n",
    "$\\alpha_y = - \\frac{1}{2} \\boldsymbol{\\mu}_y^T \\Sigma^{-1} \\boldsymbol{\\mu}_y + \\text{log}(p(y))$;\n",
    "\n",
    "with this, the LDA decision rule can be re-expressed as:\n",
    "\n",
    "$h_{LDA} (\\boldsymbol{x}) = \\text{argmax}_y \\text{ } \\boldsymbol{\\beta}_y^T \\boldsymbol{x} + \\alpha_y$.  \n",
    "\n",
    "The objective function in the preceding equation basically projects $\\boldsymbol{x}$ into $1$ dimension and offsets it.  \n",
    "\n",
    "Obtain and display the values of $\\boldsymbol{\\beta}_y \\forall y$ and $\\alpha_y \\forall y$ using print statements."
   ]
  },
  {
   "cell_type": "code",
   "execution_count": 58,
   "metadata": {},
   "outputs": [
    {
     "name": "stdout",
     "output_type": "stream",
     "text": [
      "Beta:\n",
      " [[  4.16239432   4.33062172]\n",
      " [-14.17803951 -15.15636822]\n",
      " [-15.70668273  -2.69329598]]\n",
      "alpha:\n",
      " [[  -9.68456154]\n",
      " [-103.51463884]\n",
      " [ -65.14046893]]\n"
     ]
    }
   ],
   "source": [
    "# Write code here:\n",
    "beta = np.zeros((3,2))\n",
    "alpha = np.zeros((3,1))\n",
    "\n",
    "inv_covariance = inv(covariance)\n",
    "for i in range(3):\n",
    "    beta[i] = inv_covariance @ mean[i]\n",
    "print(\"Beta:\\n\",beta)\n",
    "\n",
    "for i in range(3):\n",
    "    alpha[i] = -1/2* mean[i] @ inv_covariance @ mean[i] + np.log(p_y[0][i])\n",
    "print(\"alpha:\\n\",alpha)print(all_data)"
   ]
  },
  {
   "cell_type": "markdown",
   "metadata": {},
   "source": [
    "e) Using the derived LDA decision rule, obtain and display the Correct Classification Rates (CCR) for the training and testing sets. Also, explain the resulting CCRs."
   ]
  },
  {
   "cell_type": "code",
   "execution_count": 80,
   "metadata": {},
   "outputs": [
    {
     "name": "stdout",
     "output_type": "stream",
     "text": [
      "LDA - Train CCR: 1.0\n",
      "LDA - Test CCR: 1.0\n"
     ]
    }
   ],
   "source": [
    " # Write code here:\n",
    "y_pred_train = [0]*len(x_train)\n",
    "y_pred_test = [0]*len(x_test)\n",
    "y_ground_truth_train = [i[1] for i in x_train]\n",
    "y_ground_truth_test = [i[1] for i in x_test]\n",
    "# print(beta[0] @ x_train[0][0] + alpha[0])\n",
    "\n",
    "for i in range(len(x_train)):\n",
    "    class_pred = 0\n",
    "    tmp_max = -10000\n",
    "    for j in range(3):\n",
    "        value = beta[j] @ x_train[i][0] + alpha[j]\n",
    "        if ( value > tmp_max ):\n",
    "            tmp_max = value\n",
    "            class_pred = (j+1)\n",
    "    y_pred_train[i] = class_pred\n",
    "\n",
    "for i in range(len(x_test)):\n",
    "    class_pred = 0\n",
    "    tmp_max = -10000\n",
    "    for j in range(3):\n",
    "        value = beta[j] @ x_test[i][0] + alpha[j]\n",
    "        if ( value > tmp_max ):\n",
    "            tmp_max = value\n",
    "            class_pred = (j+1)\n",
    "    y_pred_test[i] = class_pred\n",
    "\n",
    "train_ccr = accuracy_score(y_ground_truth_train, y_pred_train)\n",
    "test_ccr = accuracy_score(y_ground_truth_test, y_pred_test)\n",
    "\n",
    "print(\"LDA - Train CCR:\",train_ccr)\n",
    "print(\"LDA - Test CCR:\",test_ccr)"
   ]
  },
  {
   "cell_type": "markdown",
   "metadata": {},
   "source": [
    "f) Here, we will test our LDA classifier on $5$ new data points:\n",
    "    \n",
    "$\\boldsymbol{x}_1 = [10,10]^T,\\boldsymbol{x}_2 = [-10,10]^T,\\boldsymbol{x}_3 = [-10,-10]^T,\\boldsymbol{x}_4 = [10,-10]^T,\\boldsymbol{x}_5 = [0,0]^T$\n",
    "\n",
    "Plot these new test points along with the original Gaussian data on a new figure. For each new test point, compute the score of the test point belonging to class $y \\text{ } \\forall \\text{ } y \\in \\{1,...,m \\}$ as:  $\\text{score}_y = \\boldsymbol{\\beta}_y^T \\boldsymbol{x} + \\alpha_y$ and display the scores using print statements.  \n",
    "\n",
    "Describe the resulting scores and rationalize why they make sense based on proximity of a new test point to a certain data cluster.   "
   ]
  },
  {
   "cell_type": "code",
   "execution_count": 109,
   "metadata": {},
   "outputs": [
    {
     "name": "stdout",
     "output_type": "stream",
     "text": [
      "[[ 10  10]\n",
      " [-10  10]\n",
      " [-10 -10]\n",
      " [ 10 -10]\n",
      " [  0   0]]\n",
      "[[  75.24559884 -396.8587162  -249.14025605]\n",
      " [  -8.00228752 -113.29792595   64.99339854]\n",
      " [ -94.61472192  189.82943851  118.85931818]\n",
      " [ -11.36683556  -93.73135174 -195.27433641]\n",
      " [  -9.68456154 -103.51463884  -65.14046893]]\n"
     ]
    },
    {
     "data": {
      "image/png": "[encoded data removed]",
      "text/plain": [
       "<Figure size 432x288 with 1 Axes>"
      ]
     },
     "metadata": {
      "needs_background": "light"
     },
     "output_type": "display_data"
    }
   ],
   "source": [
    "# Write code here:\n",
    "new_data = np.array([[10,10],[-10,10],[-10,-10],[10,-10],[0,0]])\n",
    "scatter_plot(x_one, y_one, \"x\", \"y\", 'b', 'x', 'class 1',\"Visualizing Gaussian Data\")\n",
    "scatter_plot(x_two, y_two, \"x\", \"y\", 'g', 'x', 'class 2')\n",
    "scatter_plot(x_three, y_three, \"x\", \"y\", 'r', 'x', 'class 3')\n",
    "plt.axis('equal')\n",
    "\n",
    "new_data_x = [i[0] for i in new_data]\n",
    "new_data_y = [i[1] for i in new_data]\n",
    "scatter_plot(new_data_x, new_data_y, \"x\", \"y\", 'c', '*', 'new data')\n",
    "plt.legend(loc = 'right', bbox_to_anchor=(1.3, 0.5))\n",
    "\n",
    "scores = np.zeros((5,3))\n",
    "\n",
    "for i in range(len(new_data)):\n",
    "    for j in range(3):\n",
    "        scores[i][j] = beta[j] @ new_data[i] + alpha[j]\n",
    "\n",
    "print(new_data)\n",
    "print(scores)"
   ]
  },
  {
   "cell_type": "markdown",
   "metadata": {},
   "source": [
    "**3) Logistic Regression**"
   ]
  },
  {
   "cell_type": "markdown",
   "metadata": {},
   "source": [
    "In this problem, we will implement Logistic Regression using the built in capability (from sklearn).\n",
    "\n",
    "Form a Logistic Regression classifer using the training data from Q$2$ and apply it to the training and testing sets from Q$2$. Obtain the CCRs for the training and testing sets; also, explain the resulting CCRs. "
   ]
  },
  {
   "cell_type": "code",
   "execution_count": 137,
   "metadata": {},
   "outputs": [
    {
     "name": "stdout",
     "output_type": "stream",
     "text": [
      "LR - Train CCR: 1.0\n",
      "LR - Test CCR: 1.0\n"
     ]
    }
   ],
   "source": [
    "from sklearn.linear_model import LogisticRegression\n",
    "from sklearn import datasets\n",
    "\n",
    "clf = LogisticRegression(random_state=0, solver='lbfgs',multi_class='multinomial')\n",
    "\n",
    "lr_x_train = [i[0] for i in x_train]\n",
    "lr_y_train = [i[1] for i in x_train]\n",
    "clf.fit(lr_x_train, lr_y_train)\n",
    "\n",
    "lr_x_test = [i[0] for i in x_test]\n",
    "lr_y_test = [i[1] for i in x_test]\n",
    "\n",
    "lr_y_pred_train = clf.predict(lr_x_train)\n",
    "lr_y_pred_test = clf.predict(lr_x_test)\n",
    "\n",
    "lr_train_ccr = accuracy_score(y_ground_truth_train, lr_y_pred_train)\n",
    "lr_test_ccr = accuracy_score(lr_y_test, lr_y_pred_test)\n",
    "\n",
    "print(\"LR - Train CCR:\", lr_train_ccr)\n",
    "print(\"LR - Test CCR:\", lr_test_ccr)"
   ]
  },
  {
   "cell_type": "code",
   "execution_count": null,
   "metadata": {},
   "outputs": [],
   "source": []
  }
 ],
 "metadata": {
  "kernelspec": {
   "display_name": "Python 3",
   "language": "python",
   "name": "python3"
  },
  "language_info": {
   "codemirror_mode": {
    "name": "ipython",
    "version": 3
   },
   "file_extension": ".py",
   "mimetype": "text/x-python",
   "name": "python",
   "nbconvert_exporter": "python",
   "pygments_lexer": "ipython3",
   "version": "3.7.2"
  }
 },
 "nbformat": 4,
 "nbformat_minor": 2
}
