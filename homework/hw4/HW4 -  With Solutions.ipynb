{
 "cells": [
  {
   "cell_type": "markdown",
   "metadata": {},
   "source": [
    "**EC 414 - Spring 2019**\n",
    "\n",
    "**HW 4 - QDA/LDA & Logistic Regression 1**\n",
    "\n",
    "Due:  Wednesday Feb 27 (In class)"
   ]
  },
  {
   "cell_type": "markdown",
   "metadata": {},
   "source": [
    "**1) Obtaining QDA & LDA Decision Rules: **\n",
    "\n",
    "In this problem, we will consider Quadratic and Linear Discriminant Analysis for $m$ classes where $y \\in \\{1,...,m \\}$ represents a class index. Using the MPE (Most Probable Explanation) rule: \n",
    "\n",
    "$h_{MPE} (\\boldsymbol{x})= \\text{argmax}_{y} p(y|\\boldsymbol{x},\\theta)$, \n",
    "\n",
    "obtain the QDA & LDA decision rules: \n",
    "\n",
    "$h_{QDA} (\\boldsymbol{x}) = \\text{argmin}_y [\\frac{1}{2} (\\boldsymbol{x}-\\boldsymbol{\\mu}_y)^T \\Sigma_y^{-1} (\\boldsymbol{x}-\\boldsymbol{\\mu}_y) + \\frac{1}{2} \\text{log} (\\text{det}(\\Sigma_y)) - \\text{log} (p(y))]$,\n",
    "\n",
    "$h_{LDA} (\\boldsymbol{x}) = \\text{argmax}_y [(\\boldsymbol{\\mu}_y^T \\Sigma^{-1}) \\cdot \\boldsymbol{x} - \\frac{1}{2} \\boldsymbol{\\mu}_y^T \\Sigma^{-1} \\boldsymbol{\\mu}_y + \\text{log}(p(y))]$.\n",
    "\n",
    "Please show all intermediate steps in your analysis. As a tip, it may be expedient to use Bayes Rule in your analysis along with the fact that, for QDA:\n",
    "\n",
    "$p(\\boldsymbol{x}|y,\\theta) = N(\\boldsymbol{\\mu}_y,\\Sigma_y)(\\boldsymbol{x}) = \\frac{1}{((2 \\pi)^d \\text{ det}(\\Sigma_y))^{1/2}} e^{\\frac{1}{2} (\\boldsymbol{x}-\\boldsymbol{\\mu}_y)^T \\Sigma_y^{-1} (\\boldsymbol{x}-\\boldsymbol{\\mu}_y)}$, \n",
    "\n",
    "and for LDA:\n",
    "\n",
    "$ \\Sigma_y = \\Sigma \\text{ } \\forall \\text{ } y \\in \\{1,...,m \\}$.\n",
    "\n",
    "\n"
   ]
  },
  {
   "cell_type": "code",
   "execution_count": 1,
   "metadata": {},
   "outputs": [],
   "source": [
    "# Solution is in separate file."
   ]
  },
  {
   "cell_type": "markdown",
   "metadata": {},
   "source": [
    "**2) Implementation of LDA**\n",
    "\n",
    "In this problem, we will explore the implementation and application of LDA on an artificial dataset.  Using any built in Python command/function for LDA is prohibited.  "
   ]
  },
  {
   "cell_type": "markdown",
   "metadata": {},
   "source": [
    "a) Generate $3$ $2$D Gaussian clusters of data with the following means and covariances:\n",
    "\n",
    "$\\boldsymbol{\\mu}_1 = [2,2], \\boldsymbol{\\mu}_2 = [-7,-7], \\boldsymbol{\\mu}_3 = [-8,-1]$,\n",
    "\n",
    "$\\Sigma = [[0.5,0];[0,0.5]]$.\n",
    "\n",
    "Let each cluster of data have $500$ points. Plot the generated Gaussian data."
   ]
  },
  {
   "cell_type": "code",
   "execution_count": 2,
   "metadata": {},
   "outputs": [
    {
     "data": {
      "image/png": "[encoded data removed]",
      "text/plain": [
       "<Figure size 432x288 with 1 Axes>"
      ]
     },
     "metadata": {},
     "output_type": "display_data"
    }
   ],
   "source": [
    "import numpy as np\n",
    "import matplotlib.pyplot as plt\n",
    "import random \n",
    "\n",
    "# Generate 2D gaussian data\n",
    "variance = 0.5\n",
    "mu1  = [2, 2]\n",
    "cov1 = [[variance, 0],[0, variance]]  \n",
    "\n",
    "mu2  = [-7, -7]\n",
    "cov2 = [[variance, 0],[0, variance]]  \n",
    "\n",
    "mu3  = [-8, -1]\n",
    "cov3 = [[variance, 0],[0, variance]]  \n",
    "\n",
    "num_pts = 500\n",
    "num_classes = 3\n",
    "\n",
    "x1, y1 = np.random.multivariate_normal(mu1, cov1, num_pts).T\n",
    "x2, y2 = np.random.multivariate_normal(mu2, cov2, num_pts).T\n",
    "x3, y3 = np.random.multivariate_normal(mu3, cov3, num_pts).T\n",
    "\n",
    "# Plot data\n",
    "plt.plot(x1, y1, 'bx')\n",
    "plt.plot(x2, y2, 'gx')\n",
    "plt.plot(x3, y3, 'rx')\n",
    "plt.axis('equal')\n",
    "plt.xlabel('X')\n",
    "plt.ylabel('Y')\n",
    "plt.title('Visualizing Gaussian Data')\n",
    "plt.grid()\n",
    "plt.show()\n"
   ]
  },
  {
   "cell_type": "markdown",
   "metadata": {},
   "source": [
    "b) Randomly split all the data and labels into training and testing sets using an $85\\%$/$15\\%$  train/test split. "
   ]
  },
  {
   "cell_type": "code",
   "execution_count": 5,
   "metadata": {},
   "outputs": [
    {
     "name": "stdout",
     "output_type": "stream",
     "text": [
      "(1500, 1)\n"
     ]
    }
   ],
   "source": [
    "# Using Gaussian Data, apply LDA to obtain decision boundaries that we will plot. \n",
    "\n",
    "X = np.array(np.concatenate((x1,x2,x3),axis=0)).reshape(-1,1)\n",
    "Y = np.array(np.concatenate((y1,y2,y3),axis=0)).reshape(-1,1)\n",
    "LABELS = np.array(np.concatenate((np.ones((1,num_pts)),2*np.ones((1,num_pts)),3*np.ones((1,num_pts))),axis=0)).reshape(-1,1)\n",
    "DATA = np.concatenate((X,Y),axis=1)\n",
    "#print(X.shape)\n",
    "#print(Y)\n",
    "#print(DATA)\n",
    "#print(LABELS)\n",
    "\n",
    "# randomly split data into train and test\n",
    "percent_train = 0.85\n",
    "total_points = num_classes*num_pts # 1500\n",
    "indices_original = np.arange(total_points)\n",
    "shuffled_indices = random.sample(list(indices_original), len(indices_original))\n",
    "DATA_shuffled = DATA[shuffled_indices]\n",
    "LABELS_shuffled = LABELS[shuffled_indices]\n",
    "\n",
    "\n",
    "X_train = DATA_shuffled[:round(percent_train*total_points)]\n",
    "Y_train = LABELS_shuffled[:round(percent_train*total_points)]\n",
    "X_test = DATA_shuffled[round(percent_train*total_points):]\n",
    "Y_test = LABELS_shuffled[round(percent_train*total_points):]\n",
    "\n",
    "#print(DATA)\n",
    "#print(DATA_shuffled)\n",
    "#print(X_train)\n",
    "#print(Y_train)\n",
    "#print(X_test)\n",
    "#print(Y_test)\n",
    "\n",
    "#X_train[0]"
   ]
  },
  {
   "cell_type": "markdown",
   "metadata": {},
   "source": [
    "c) Obtain the necessary parameter values for ($\\widehat{\\boldsymbol{\\mu}}_y \\text{ } \\forall \\text{ } y$,$\\widehat{\\Sigma}$,$\\widehat{p}(y)$) used for obtaining the LDA decision rule derived in Q$1$.  As a reminder, the preceding values can be obtained as:\n",
    "\n",
    "$\\widehat{p}(y) = \\frac{n_y}{n}$,\n",
    "\n",
    "$\\widehat{\\boldsymbol{\\mu}}_y = \\frac{1}{n_y} \\sum_{i \\in \\{ 1,...,n\\}: y = y_i} \\boldsymbol{x}_i$,\n",
    "\n",
    "$\\widehat{\\Sigma} = \\frac{1}{n} \\sum_{i=1}^n (\\boldsymbol{x}_i-\\widehat{\\boldsymbol{\\mu}}_{y_i})(\\boldsymbol{x}_i-\\widehat{\\boldsymbol{\\mu}}_{y_i})^T$,\n",
    "\n",
    "where $n$ is the number of training data points and $n_y$ is the number of occurrences of class $y$ in the training set. \n",
    "\n",
    "Please display the resulting values of the preceding variables using print statements.  "
   ]
  },
  {
   "cell_type": "code",
   "execution_count": 340,
   "metadata": {},
   "outputs": [
    {
     "name": "stdout",
     "output_type": "stream",
     "text": [
      "p: \n",
      "[[0.33333333 0.33537255 0.33129412]]\n",
      "Empirical means: \n",
      "[[ 1.9741229   2.01849692]\n",
      " [-7.01034018 -6.97891083]\n",
      " [-8.00387467 -1.01455034]]\n",
      "Covariance matrix: \n",
      "[[0.50448332 0.00560337]\n",
      " [0.00560337 0.50538298]]\n"
     ]
    }
   ],
   "source": [
    "# apply LDA - parameters obtain to form decision rule\n",
    "\n",
    "# n - number of training points\n",
    "n = round(total_points*percent_train)\n",
    "\n",
    "p_array = np.zeros((1,num_classes))\n",
    "for i in np.arange(num_classes):\n",
    "    class_label = i + 1\n",
    "    #print(class_label)\n",
    "    n_y = np.sum(Y_train==class_label)\n",
    "    #print(Y_train==class_label)\n",
    "    p_array[0][i] = n_y/n\n",
    "print('p: ')\n",
    "print(p_array)\n",
    "\n",
    "empirical_means = np.zeros((num_classes,2))\n",
    "for i in np.arange(num_classes):\n",
    "    class_label = i+1\n",
    "    n_y = np.sum(Y_train==class_label)\n",
    "    for j in np.arange(2):\n",
    "        indices_of_class = Y_train==class_label\n",
    "        empirical_means[i,j] += (1/n_y)*np.sum(X_train[indices_of_class.ravel(),j])\n",
    "print('Empirical means: ')        \n",
    "print(empirical_means)        \n",
    "\n",
    "for i in np.arange(n):\n",
    "    if i==0:\n",
    "        covariance_matrix = (1/n)*(X_train[i].reshape(-1,1)-empirical_means[int(Y_train[i])-1].reshape(-1,1))@(X_train[i].reshape(-1,1)-empirical_means[int(Y_train[i])-1].reshape(-1,1)).T\n",
    "    else:\n",
    "        covariance_matrix += (1/n)*(X_train[i].reshape(-1,1)-empirical_means[int(Y_train[i])-1].reshape(-1,1))@(X_train[i].reshape(-1,1)-empirical_means[int(Y_train[i])-1].reshape(-1,1)).T\n",
    "print('Covariance matrix: ')\n",
    "print(covariance_matrix)"
   ]
  },
  {
   "cell_type": "markdown",
   "metadata": {},
   "source": [
    "d) Since we know ($\\widehat{\\boldsymbol{\\mu}}_y \\text{ } \\forall \\text{ } y$,$\\widehat{\\Sigma}$,$\\widehat{p}(y)$), we can in turn obtain the LDA decision rule. Let:\n",
    "\n",
    "$\\boldsymbol{\\beta}_y = \\boldsymbol{\\mu}_y^T \\Sigma^{-1}$,\n",
    "\n",
    "$\\alpha_y = - \\frac{1}{2} \\boldsymbol{\\mu}_y^T \\Sigma^{-1} \\boldsymbol{\\mu}_y + \\text{log}(p(y))$;\n",
    "\n",
    "with this, the LDA decision rule can be re-expressed as:\n",
    "\n",
    "$h_{LDA} (\\boldsymbol{x}) = \\text{argmax}_y \\text{ } \\boldsymbol{\\beta}_y^T \\boldsymbol{x} + \\alpha_y$.  \n",
    "\n",
    "The objective function in the preceding equation basically projects $\\boldsymbol{x}$ into $1$ dimension and offsets it.  \n",
    "\n",
    "Obtain and display the values of $\\boldsymbol{\\beta}_y \\forall y$ and $\\alpha_y \\forall y$ using print statements."
   ]
  },
  {
   "cell_type": "code",
   "execution_count": 341,
   "metadata": {},
   "outputs": [
    {
     "name": "stdout",
     "output_type": "stream",
     "text": [
      "Beta: \n",
      "[[  3.86927258   3.9510946 ]\n",
      " [-13.74439173 -13.65676372]\n",
      " [-15.8451432   -1.8318072 ]]\n",
      "Alpha: \n",
      "[[ -8.90545823]\n",
      " [-96.92361222]\n",
      " [-65.44524921]]\n"
     ]
    }
   ],
   "source": [
    "# Using built in function\n",
    "#from sklearn.discriminant_analysis import LinearDiscriminantAnalysis\n",
    "#clf = LinearDiscriminantAnalysis()\n",
    "#clf.fit(X_train, Y_train.ravel())\n",
    "\n",
    "#### Get parameters: \\beta_y, \\alpha_y \\forall y \\in \\{ 1,...,m \\}:\n",
    "\n",
    "BETA = np.zeros((num_classes,2))\n",
    "for i in np.arange(num_classes):\n",
    "    class_label = i+1\n",
    "    BETA[i,:] = empirical_means[i].reshape(-1,1).T @ np.linalg.inv(covariance_matrix)\n",
    "print('Beta: ')\n",
    "print(BETA)\n",
    "\n",
    "ALPHA = np.zeros((num_classes,1))\n",
    "for i in np.arange(num_classes):\n",
    "    ALPHA[i] = (-1/2)*empirical_means[i].reshape(-1,1).T @ np.linalg.inv(covariance_matrix) @ empirical_means[i].reshape(-1,1) + np.log(p_array[0][i])\n",
    "print('Alpha: ')\n",
    "print(ALPHA)\n"
   ]
  },
  {
   "cell_type": "markdown",
   "metadata": {},
   "source": [
    "e) Using the derived LDA decision rule, obtain and display the Correct Classification Rates (CCR) for the training and testing sets. Also, explain the resulting CCRs."
   ]
  },
  {
   "cell_type": "code",
   "execution_count": 342,
   "metadata": {},
   "outputs": [
    {
     "name": "stdout",
     "output_type": "stream",
     "text": [
      "LDA - Train CCR:  1.0\n",
      "LDA - Test CCR:  1.0\n"
     ]
    }
   ],
   "source": [
    "#### Get train and test CCRs\n",
    "\n",
    "# Train CCR\n",
    "Y_empirical_train = np.zeros((len(Y_train),1))\n",
    "metric_vals = np.zeros((num_classes,1))\n",
    "\n",
    "for i in np.arange(len(Y_train)):\n",
    "    # for every test point, obtain metric (\\beta_y.T @ x_test + \\alpha_y)\n",
    "    for j in np.arange(num_classes):\n",
    "        metric_vals[j] = BETA[j,:].reshape(-1,1).T @ X_train[i,:].reshape(-1,1) + ALPHA[j] \n",
    "    idx_max = np.argmax(metric_vals)\n",
    "    Y_empirical_train[i] = int(idx_max)+1\n",
    "\n",
    "train_CCR = np.sum(Y_train==Y_empirical_train)/len(Y_empirical_train)\n",
    "print('LDA - Train CCR: ',train_CCR)\n",
    "\n",
    "# Test CCR\n",
    "Y_empirical_test = np.zeros((len(Y_test),1))\n",
    "metric_vals = np.zeros((num_classes,1))\n",
    "\n",
    "for i in np.arange(len(Y_test)):\n",
    "    # for every test point, obtain metric (\\beta_y.T @ x_test + \\alpha_y)\n",
    "    for j in np.arange(num_classes):\n",
    "        metric_vals[j] = BETA[j,:].reshape(-1,1).T @ X_test[i,:].reshape(-1,1) + ALPHA[j]    \n",
    "    idx_max = np.argmax(metric_vals)\n",
    "    Y_empirical_test[i] = int(idx_max)+1\n",
    "    \n",
    "test_CCR = np.sum(Y_test==Y_empirical_test)/len(Y_empirical_test)\n",
    "print('LDA - Test CCR: ',test_CCR)\n",
    "\n",
    "# explanation:  data is very different, hard to confuse classes, CCR will be very high since boundaries will be accurate. \n",
    "# if larger variance and overlap between classes occured, then there will be smaller CCRs.  "
   ]
  },
  {
   "cell_type": "markdown",
   "metadata": {},
   "source": [
    "f) Here, we will test our LDA classifier on $5$ new data points:\n",
    "    \n",
    "$\\boldsymbol{x}_1 = [10,10],\\boldsymbol{x}_2 = [-10,10],\\boldsymbol{x}_3 = [-10,-10],\\boldsymbol{x}_4 = [10,-10],\\boldsymbol{x}_5 = [0,0]$\n",
    "\n",
    "Plot these new test points along with the original Gaussian data on a new figure. For each new test point, compute the score of the test point belonging to class $y \\text{ } \\forall \\text{ } y \\in \\{1,...,m \\}$ as:  $\\text{score}_y = \\boldsymbol{\\beta}_y^T \\boldsymbol{x} + \\alpha_y$ and display the scores using print statements.  \n",
    "\n",
    "Describe the resulting scores and rationalize why they make sense based on proximity of a new test point to a certain data cluster.   "
   ]
  },
  {
   "cell_type": "code",
   "execution_count": 335,
   "metadata": {},
   "outputs": [
    {
     "data": {
      "image/png": "[encoded data removed]",
      "text/plain": [
       "<Figure size 432x288 with 1 Axes>"
      ]
     },
     "metadata": {},
     "output_type": "display_data"
    },
    {
     "name": "stdout",
     "output_type": "stream",
     "text": [
      "KEY:  Blue - 1, Green - 2, Red - 3\n",
      "\n",
      "[[ 10  10]\n",
      " [-10  10]\n",
      " [-10 -10]\n",
      " [ 10 -10]\n",
      " [  0   0]]\n",
      "[[  69.29821359 -370.93516672 -242.21475317]\n",
      " [  -8.08723811  -96.04733214   74.6881108 ]\n",
      " [ -87.10913006  177.08794229  111.32425476]\n",
      " [  -9.72367836  -97.7998923  -205.57860922]\n",
      " [  -8.90545823  -96.92361222  -65.44524921]]\n"
     ]
    }
   ],
   "source": [
    "# Display scores for 5 points using LDA model:\n",
    "\n",
    "X_new = np.array([[10,10],[-10,10],[-10,-10],[10,-10],[0,0]])\n",
    "\n",
    "# plot data with new X points:\n",
    "plt.plot(x1, y1, 'bx')\n",
    "plt.plot(x2, y2, 'gx')\n",
    "plt.plot(x3, y3, 'rx')\n",
    "plt.plot(X_new[:,0],X_new[:,1],'m*')\n",
    "plt.axis('equal')\n",
    "plt.xlabel('X')\n",
    "plt.ylabel('Y')\n",
    "plt.title('Gaussian Data + New Data')\n",
    "plt.grid()\n",
    "plt.show()\n",
    "\n",
    "# Place scores for each point in matrix\n",
    "scores = np.zeros((X_new.shape[0],num_classes))\n",
    "for i in np.arange(X_new.shape[0]):\n",
    "    for j in np.arange(num_classes):\n",
    "        scores[i,j] = BETA[j,:].reshape(-1,1).T @ X_new[i,:].reshape(-1,1) + ALPHA[j]\n",
    "print('KEY:  Blue - 1, Green - 2, Red - 3\\n')\n",
    "\n",
    "print(X_new)\n",
    "print(scores)\n",
    "\n",
    "# explain resulting scores:\n",
    "# the larger the score, the closer a class to the test point (since we are doing argmax)"
   ]
  },
  {
   "cell_type": "markdown",
   "metadata": {},
   "source": [
    "**3) Logistic Regression**"
   ]
  },
  {
   "cell_type": "markdown",
   "metadata": {},
   "source": [
    "In this problem, we will implement Logistic Regression using the built in capability (from sklearn).\n",
    "\n",
    "Form a Logistic Regression classifer using the training data from Q$2$ and apply it to the training and testing sets from Q$2$. Obtain the CCRs for the training and testing sets; also, explain the resulting CCRs. "
   ]
  },
  {
   "cell_type": "code",
   "execution_count": 318,
   "metadata": {},
   "outputs": [
    {
     "name": "stdout",
     "output_type": "stream",
     "text": [
      "LR - Train CCR:  1.0\n",
      "LR - Test CCR:  1.0\n"
     ]
    },
    {
     "name": "stderr",
     "output_type": "stream",
     "text": [
      "/anaconda3/lib/python3.6/site-packages/ipykernel_launcher.py:8: DeprecationWarning: elementwise == comparison failed; this will raise an error in the future.\n",
      "  \n"
     ]
    }
   ],
   "source": [
    "# Using same data as before, obtain train and test CCRs\n",
    "\n",
    "from sklearn.linear_model import LogisticRegression\n",
    "LRM = LogisticRegression(random_state=0, solver='lbfgs',multi_class='multinomial').fit(X_train, Y_train.ravel())\n",
    "\n",
    "# training CCR\n",
    "Y_empirical_train = LRM.predict(X_train).reshape(-1,1)\n",
    "train_CCR = np.sum(Y_test==Y_empirical_train)/len(Y_empirical_train)\n",
    "print('LR - Train CCR: ',test_CCR)\n",
    "\n",
    "# testing CCR\n",
    "Y_empirical_test = LRM.predict(X_test).reshape(-1,1)\n",
    "test_CCR = np.sum(Y_test==Y_empirical_test)/len(Y_empirical_test)\n",
    "print('LR - Test CCR: ',test_CCR)\n",
    "\n",
    "# explanation:  data is very different, hard to confuse classes, CCR will be very high.\n",
    "# if larger variance and overlap between classes occured, then there may be smaller CCRs.  "
   ]
  },
  {
   "cell_type": "code",
   "execution_count": null,
   "metadata": {},
   "outputs": [],
   "source": []
  }
 ],
 "metadata": {
  "kernelspec": {
   "display_name": "Python 3",
   "language": "python",
   "name": "python3"
  },
  "language_info": {
   "codemirror_mode": {
    "name": "ipython",
    "version": 3
   },
   "file_extension": ".py",
   "mimetype": "text/x-python",
   "name": "python",
   "nbconvert_exporter": "python",
   "pygments_lexer": "ipython3",
   "version": "3.7.2"
  }
 },
 "nbformat": 4,
 "nbformat_minor": 2
}
