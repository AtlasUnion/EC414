{
 "cells": [
  {
   "cell_type": "markdown",
   "metadata": {},
   "source": [
    "# Homework 2: Regression\n",
    "\n",
    "By Natalia Frumkin and Karanraj Chauhan with the help of B. Kulis, R. Manzelli, and A. Tsiligkaridis\n",
    "\n",
    "Using climate change datasets from NASA's Climate Change Initiative: https://climate.nasa.gov/vital-signs/\n",
    "\n",
    "and Airline On-Time dataset from https://www.kaggle.com/giovamata/airlinedelaycauses"
   ]
  },
  {
   "cell_type": "markdown",
   "metadata": {},
   "source": [
    "## Preamble\n",
    "\n",
    "Download the `hw2` folder from here: https://github.com/nfrumkin/EC414/tree/master/homework/hw2 (or clone the EC414 repo, if you prefer).\n",
    "\n",
    "To run and solve this assignment, you must have a working Jupyter Notebook installation.\n",
    "\n",
    "If you followed the installation instructions for `Python 3.6.x` and `Jupyter Notebook` from discussion 1, you should be set. In the terminal (cmd for Windows users), navigate to the `hw2` folder. Then type `jupyter notebook` and press `Enter`.\n",
    "\n",
    "If you have Anaconda, run Anaconda and choose this file (`Homework 2 - Regression.ipynb`) in Anaconda's file explorer. Use `Python 3` version.\n",
    "\n",
    "Below statements assume that you have already followed these instructions. If you need help with Python syntax, NumPy, or Matplotlib, you might find [Week 1 discussion material](https://github.com/nfrumkin/EC414/blob/master/discussions/Week%201%20-%20Python%20Review.ipynb) useful. \n",
    "\n",
    "To run code in a cell or to render [Markdown](https://en.wikipedia.org/wiki/Markdown)+[LaTeX](https://en.wikipedia.org/wiki/LaTeX) press `Ctrl+Enter` or `[>|]`(like \"play\") button above. To edit any code or text cell [double]click on its content. To change cell type, choose \"Markdown\" or \"Code\" in the drop-down menu above.\n",
    "\n",
    "Put your solution into boxes marked with **`[double click here to add a solution]`** and press Ctrl+Enter to render text. [Double]click on a cell to edit or to see its source code. You can add cells via **`+`** sign at the top left corner.\n",
    "\n",
    "Submission instructions: please upload your completed solution file to Blackboard by the due date (see Schedule). If you have pen-and-paper answers, please hand them in in class on the same day."
   ]
  },
  {
   "cell_type": "markdown",
   "metadata": {},
   "source": [
    "## Problem 1: Linear Algebra Review"
   ]
  },
  {
   "cell_type": "markdown",
   "metadata": {},
   "source": [
    "Let $B$ be a 4x4 matrix to which we apply the following operations:\n",
    "1. double column 2\n",
    "2. interchange columns 1 and 4\n",
    "3. halve row 1\n",
    "4. add row 3 to row 1\n",
    "5. subtract row 4 from each of the other rows\n",
    "6. replace column 3 by column 4\n",
    "7. delete column 2 (so that the column dimension is reduced by 1)\n",
    "\n",
    "**a.** Write the result as a product of eight matrices.\n",
    "\n",
    "**b.** Write it again as a product $ABC$ (same $B$) of three matrices."
   ]
  },
  {
   "cell_type": "markdown",
   "metadata": {},
   "source": [
    "a.\n",
    "$$\n",
    "\\left(\\begin{array}{cc} \n",
    "1 & 0 & 0 & -1\\\\ \n",
    "0 & 1 & 0 & -1\\\\\n",
    "0 & 0 & 1 & -1\\\\\n",
    "0 & 0 & 0 & 1\\\\\n",
    "\\end{array}\\right)\n",
    "\\left(\\begin{array}{cc} \n",
    "1 & 0 & 1 & 0\\\\ \n",
    "0 & 1 & 0 & 0\\\\\n",
    "0 & 0 & 1 & 0\\\\\n",
    "0 & 0 & 0 & 1\\\\\n",
    "\\end{array}\\right)\n",
    "\\left(\\begin{array}{cc} \n",
    "\\frac{1}{2} & 0 & 0 & 0\\\\ \n",
    "0 & 1 & 0 & 0\\\\\n",
    "0 & 0 & 1 & 0\\\\\n",
    "0 & 0 & 0 & 1\\\\\n",
    "\\end{array}\\right)\n",
    "B\n",
    "\\left(\\begin{array}{cc} \n",
    "1 & 0 & 0 & 0\\\\ \n",
    "0 & 2 & 0 & 0\\\\\n",
    "0 & 0 & 1 & 0\\\\\n",
    "0 & 0 & 0 & 1\\\\\n",
    "\\end{array}\\right)\n",
    "\\left(\\begin{array}{cc} \n",
    "0 & 0 & 0 & 1\\\\ \n",
    "0 & 1 & 0 & 0\\\\\n",
    "0 & 0 & 1 & 0\\\\\n",
    "1 & 0 & 0 & 0\\\\\n",
    "\\end{array}\\right)\n",
    "\\left(\\begin{array}{cc} \n",
    "1 & 0 & 0 & 0\\\\ \n",
    "0 & 1 & 0 & 0\\\\\n",
    "0 & 0 & 0 & 0\\\\\n",
    "0 & 0 & 1 & 1\\\\\n",
    "\\end{array}\\right)\n",
    "\\left(\\begin{array}{cc} \n",
    "1 & 0 & 0\\\\ \n",
    "0 & 0 & 0\\\\\n",
    "0 & 1 & 0\\\\\n",
    "0 & 0 & 1\\\\\n",
    "\\end{array}\\right)\n",
    "$$ \n",
    "b.\n",
    "$$\n",
    "\\left(\\begin{array}{cc} \n",
    "\\frac{1}{2} & 0 & 0 & -1\\\\ \n",
    "0 & 1 & 0 & -1\\\\\n",
    "1 & 0 & 0 & -1\\\\\n",
    "0 & 0 & 0 & 1\\\\\n",
    "\\end{array}\\right)\n",
    "B\n",
    "\\left(\\begin{array}{cc} \n",
    "0 & 1 & 1\\\\ \n",
    "0 & 0 & 0\\\\\n",
    "0 & 0 & 0\\\\\n",
    "1 & 0 & 0\\\\\n",
    "\\end{array}\\right)\n",
    "$$"
   ]
  },
  {
   "cell_type": "markdown",
   "metadata": {},
   "source": [
    "## Problem 2: Weighted Least Squares\n",
    "\n",
    "Given an $n$  x  $d$ matrix $X$ of $n$ data points, each point\n",
    "$d$-dimensional, an $n$ x $1$ vector $Y$ of observed values and an $n$ x $n$ diagonal weight matrix $A$,\n",
    "deduce the closed form expression for the coefficients in the weighted linear least squares\n",
    "regression problem given below. Consider both slope and bias terms as coefficients. In\n",
    "weighted linear least squares, the term minimized is the weighted sum of squared distances\n",
    "\n",
    "$\\sum_{i=1}^{n}\\alpha_i(y_i - \\sum_{j=1}^{d}X_{ij}w_j-b)^2$\n",
    "\n",
    "where $\\alpha_i$ is the ith diagonal element of matrix A, and the other symbols have their usual\n",
    "meaning.\n",
    "\n",
    "Show all steps in your derivation."
   ]
  },
  {
   "cell_type": "markdown",
   "metadata": {},
   "source": [
    "$\\sum_{i=1}^{n}\\alpha_i(y_i - \\sum_{j=1}^{d}X_{ij}w_j-b)^2$\n",
    "<br>\n",
    "= $\\sum_{i=1}^{n}\\alpha_i(y_i - XW_{ext})^2$ \n",
    "<br>\n",
    "= $(Y-XW_{ext})^{T}A(Y-XW_{ext})$\n",
    "<br>\n",
    "= $(Y^{T}-W_{ext}^{T}X^{T})A(Y-XW_{ext})$ \n",
    "<br>\n",
    "= $(Y^{T}AY - Y^{T}AXW_{ext}-W_{ext}^{T}X^{T}AY+W_{ext}^{T}X^{T}AXW_{ext} )$\n",
    "<br>\n",
    "$\\rightarrow$ differentiate with respect to $W_{ext}$ \n",
    "<br>\n",
    "$\\nabla_{W_{ext}}(Y^{T}AY - Y^{T}AXW_{ext}-W_{ext}^{T}X^{T}AY+W_{ext}^{T}X^{T}AXW_{ext})$\n",
    "<br>\n",
    "= $-X^{T}AX + X^{T}AXW$\n",
    "<br>\n",
    "$\\rightarrow$ Set to 0 and solve\n",
    "<br>\n",
    "$-X^{T}AX + X^{T}AXW = 0 \\rightarrow X^{T}AX = X^{T}AXW \\rightarrow W = (X^{T}AX)^{-1}X^{T}AX$\n"
   ]
  },
  {
   "cell_type": "markdown",
   "metadata": {},
   "source": [
    "## Problem 3: Ordinary Least Squares Regression\n",
    "\n",
    "Given the Greenland ice sheet mass data over the past 17 years (source: `greenland_mass.csv`):\n",
    "\n",
    "**a.** Plot the data using matplotlib. Be sure to label axes.\n",
    "\n",
    "**b.** Apply Ordinary Least Squares regression to the data, and predict the ice sheet mass for the time step t=2018 (that is, 1 January 2018).\n",
    "\n",
    "**c.** Now plot the data and the regression curve in the same figure."
   ]
  },
  {
   "cell_type": "code",
   "execution_count": 2,
   "metadata": {},
   "outputs": [],
   "source": [
    "import numpy as np\n",
    "import pandas as pd\n",
    "\n",
    "from matplotlib import pyplot as plt\n",
    "\n",
    "from sklearn.metrics import mean_squared_error, mean_absolute_error\n",
    "from sklearn.linear_model import LinearRegression, Lasso, Ridge, ElasticNet"
   ]
  },
  {
   "cell_type": "code",
   "execution_count": 4,
   "metadata": {},
   "outputs": [
    {
     "data": {
      "text/html": [
       "<div>\n",
       "<style scoped>\n",
       "    .dataframe tbody tr th:only-of-type {\n",
       "        vertical-align: middle;\n",
       "    }\n",
       "\n",
       "    .dataframe tbody tr th {\n",
       "        vertical-align: top;\n",
       "    }\n",
       "\n",
       "    .dataframe thead th {\n",
       "        text-align: right;\n",
       "    }\n",
       "</style>\n",
       "<table border=\"1\" class=\"dataframe\">\n",
       "  <thead>\n",
       "    <tr style=\"text-align: right;\">\n",
       "      <th></th>\n",
       "      <th>time</th>\n",
       "      <th>mass_diff</th>\n",
       "      <th>one_sigma</th>\n",
       "    </tr>\n",
       "  </thead>\n",
       "  <tbody>\n",
       "    <tr>\n",
       "      <th>0</th>\n",
       "      <td>2002.29</td>\n",
       "      <td>0.00</td>\n",
       "      <td>110.39</td>\n",
       "    </tr>\n",
       "    <tr>\n",
       "      <th>1</th>\n",
       "      <td>2002.35</td>\n",
       "      <td>12.45</td>\n",
       "      <td>66.04</td>\n",
       "    </tr>\n",
       "    <tr>\n",
       "      <th>2</th>\n",
       "      <td>2002.62</td>\n",
       "      <td>-242.15</td>\n",
       "      <td>52.74</td>\n",
       "    </tr>\n",
       "    <tr>\n",
       "      <th>3</th>\n",
       "      <td>2002.71</td>\n",
       "      <td>-267.75</td>\n",
       "      <td>63.34</td>\n",
       "    </tr>\n",
       "    <tr>\n",
       "      <th>4</th>\n",
       "      <td>2002.79</td>\n",
       "      <td>-279.02</td>\n",
       "      <td>39.55</td>\n",
       "    </tr>\n",
       "  </tbody>\n",
       "</table>\n",
       "</div>"
      ],
      "text/plain": [
       "      time  mass_diff  one_sigma\n",
       "0  2002.29       0.00     110.39\n",
       "1  2002.35      12.45      66.04\n",
       "2  2002.62    -242.15      52.74\n",
       "3  2002.71    -267.75      63.34\n",
       "4  2002.79    -279.02      39.55"
      ]
     },
     "execution_count": 4,
     "metadata": {},
     "output_type": "execute_result"
    }
   ],
   "source": [
    "# read in data\n",
    "greenland_df = pd.read_csv('greenland_mass.csv', index_col=0)\n",
    "greenland_df.head()"
   ]
  },
  {
   "cell_type": "code",
   "execution_count": 5,
   "metadata": {},
   "outputs": [
    {
     "data": {
      "text/plain": [
       "Text(0, 0.5, 'mass_diff')"
      ]
     },
     "execution_count": 5,
     "metadata": {},
     "output_type": "execute_result"
    },
    {
     "data": {
      "image/png": "[encoded data removed]",
      "text/plain": [
       "<Figure size 432x288 with 1 Axes>"
      ]
     },
     "metadata": {
      "needs_background": "light"
     },
     "output_type": "display_data"
    }
   ],
   "source": [
    "# part a - visualize given data\n",
    "# to access time values : greenland_df['time'].values\n",
    "y_axis = greenland_df['mass_diff'].values\n",
    "x_axis = greenland_df['time'].values\n",
    "plt.plot(x_axis, y_axis)\n",
    "plt.xlabel('time')\n",
    "plt.ylabel('mass_diff')"
   ]
  },
  {
   "cell_type": "code",
   "execution_count": 9,
   "metadata": {},
   "outputs": [
    {
     "name": "stdout",
     "output_type": "stream",
     "text": [
      "ice sheet mass for 2018 is predicted to be -4130.555641348474\n"
     ]
    }
   ],
   "source": [
    "# part b\n",
    "# NOTE: scikit learn cannot be used for this part. \n",
    "# solution must be coded from scratch\n",
    "# fit curve using ols regression\n",
    "# predict using ols model\n",
    "x_sum = 0\n",
    "y_sum = 0\n",
    "xy_sum = 0;\n",
    "x_sq = 0\n",
    "y_sq = 0\n",
    "for i in x_axis:\n",
    "    x_sum += i\n",
    "    x_sq += i*i\n",
    "for i in y_axis:\n",
    "    y_sum += i\n",
    "    y_sq += i*i\n",
    "\n",
    "num_of_data = greenland_df['time'].count()\n",
    "for i in range(num_of_data):\n",
    "    xy_sum += x_axis[i]*y_axis[i]\n",
    "a = (num_of_data*xy_sum-(x_sum*y_sum))/(num_of_data*x_sq - (x_sum)*(x_sum))\n",
    "b = (y_sum-a*x_sum)/(num_of_data)\n",
    "y = a*x_axis + b\n",
    "ice_sheet_mass_2018 = a*2018+b\n",
    "print(\"ice sheet mass for 2018 is predicted to be \" + str(ice_sheet_mass_2018))"
   ]
  },
  {
   "cell_type": "code",
   "execution_count": 50,
   "metadata": {},
   "outputs": [
    {
     "data": {
      "text/plain": [
       "[<matplotlib.lines.Line2D at 0x7f1d52a43d68>]"
      ]
     },
     "execution_count": 50,
     "metadata": {},
     "output_type": "execute_result"
    },
    {
     "data": {
      "image/png": "[encoded data removed]",
      "text/plain": [
       "<Figure size 432x288 with 1 Axes>"
      ]
     },
     "metadata": {
      "needs_background": "light"
     },
     "output_type": "display_data"
    }
   ],
   "source": [
    "# part c - plotting the model with data\n",
    "plt.plot(x_axis, y, 'r')\n",
    "plt.plot(x_axis, y_axis)"
   ]
  },
  {
   "cell_type": "markdown",
   "metadata": {},
   "source": [
    "## Problem 4: Ridge and Lasso Regression\n",
    "\n",
    "Given the dataset of airline delays (source: `airline_delays_Xtrain.csv`, `airline_delays_ytrain.csv`). We recommend using the scikit-learn functions [Ridge](https://scikit-learn.org/stable/modules/generated/sklearn.linear_model.Ridge.html) and [Lasso](https://scikit-learn.org/stable/modules/generated/sklearn.linear_model.Lasso.html) for this problem\n",
    "\n",
    "**a.** For values of lambda 10^3, 10^4, ..., 10^13, fit ridge regression models to the data. Plot a graph of value of coefficient (y-axis) vs log lambda (x-axis) for each coefficient, on the same figure.\n",
    "\n",
    "**b.** For values of lambda 10^-2, 10^-1, ..., 10^6, fit lasso regression models to the data. Plot a graph of value of coefficient (y-axis) vs log lambda (x-axis) for each coefficient, on the same figure.\n",
    "\n",
    "**c.** Comment on the difference in how the coefficient values change with log lambda for the two methods."
   ]
  },
  {
   "cell_type": "code",
   "execution_count": 3,
   "metadata": {},
   "outputs": [],
   "source": [
    "# read in training data\n",
    "X_train = pd.read_csv('airline_delays_Xtrain.csv')\n",
    "y_train = pd.read_csv('airline_delays_ytrain.csv')"
   ]
  },
  {
   "cell_type": "code",
   "execution_count": 4,
   "metadata": {},
   "outputs": [],
   "source": [
    "from sklearn.metrics import mean_squared_error\n",
    "from sklearn.linear_model import LinearRegression, Lasso, Ridge, ElasticNet \n",
    "# use Lasso and Ridge from scikit-learn\n",
    "# documentation can be found here >> https://scikit-learn.org/stable/index.html\n",
    "\n",
    "# part a\n",
    "\n",
    "# lambda values for which to fit curve\n",
    "ridge_lambdas = np.logspace(start=4, stop=14, num=22, base=10)\n",
    "\n",
    "# exponent corresponding to the lambda value, just here for ease in graphing\n",
    "ridge_exps = np.log10(ridge_lambdas)\n",
    "\n",
    "# store the coefficients obtained for each lambda value in this ndarray\n",
    "# for example, ridge_coefs[0, :] is the coefficients obtained for lambda = 10^3\n",
    "ridge_coefs = np.empty((ridge_lambdas.shape[0], X_train.shape[1]))\n",
    "# clf = Ridge(10**4)\n",
    "clf = Ridge()\n",
    "for i in range(0,22):\n",
    "    clf.set_params(alpha = ridge_lambdas[i])\n",
    "    clf.fit(X_train, y_train)\n",
    "    ridge_coefs[i] = clf.coef_"
   ]
  },
  {
   "cell_type": "code",
   "execution_count": null,
   "metadata": {},
   "outputs": [],
   "source": [
    "# make plot\n",
    "for i in range(0,13):\n",
    "    name = \"feature \"+str(i)\n",
    "    plt.plot(ridge_exps, ridge_coefs[:,i], label = name)\n",
    "plt.xlabel(\"Log Lambda\")\n",
    "plt.ylabel(\"Coef\")\n",
    "plt.legend(loc = 'right', bbox_to_anchor=(1.3, 0.5))"
   ]
  },
  {
   "cell_type": "code",
   "execution_count": 5,
   "metadata": {},
   "outputs": [],
   "source": [
    "# part b\n",
    "\n",
    "# lambda values for which to fit curve\n",
    "lasso_lambdas = np.logspace(start=-2, stop=6, num=9, base=10)\n",
    "\n",
    "# exponent corresponding to the lambda value, just here for ease in graphing\n",
    "lasso_exps = np.log10(lasso_lambdas)\n",
    "\n",
    "# store the coefficients obtained for each lambda value in this ndarray\n",
    "# for example, lasso_coefs[0, :] is the coefficients obtained for lambda = 10^-2\n",
    "lasso_coefs = np.empty((lasso_lambdas.shape[0], X_train.shape[1]))\n",
    "\n",
    "lasso = Lasso()\n",
    "for i in range(0,9):\n",
    "    lasso.set_params(alpha = lasso_lambdas[i])\n",
    "    lasso.fit(X_train, y_train)\n",
    "    lasso_coefs[i] = lasso.coef_"
   ]
  },
  {
   "cell_type": "code",
   "execution_count": 98,
   "metadata": {
    "scrolled": true
   },
   "outputs": [
    {
     "data": {
      "text/plain": [
       "<matplotlib.legend.Legend at 0x7f5e9857b9e8>"
      ]
     },
     "execution_count": 98,
     "metadata": {},
     "output_type": "execute_result"
    },
    {
     "data": {
      "image/png": "[encoded data removed]",
      "text/plain": [
       "<Figure size 432x288 with 1 Axes>"
      ]
     },
     "metadata": {
      "needs_background": "light"
     },
     "output_type": "display_data"
    }
   ],
   "source": [
    "# make the plot\n",
    "for i in range(0,13):\n",
    "    name = \"feature \"+str(i)\n",
    "    plt.plot(lasso_exps, lasso_coefs[:,i], label = name)\n",
    "plt.xlabel(\"Log Lambda\")\n",
    "plt.ylabel(\"Coef\")\n",
    "plt.legend(loc = 'right', bbox_to_anchor=(1.3, 0.5))\n",
    "    "
   ]
  },
  {
   "cell_type": "code",
   "execution_count": null,
   "metadata": {},
   "outputs": [],
   "source": [
    "lasso_lambdas_two = np.logspace(start=4, stop=14, num=22, base=10)\n",
    "\n",
    "lasso_exps_two = np.log10(lasso_lambdas)\n",
    "\n",
    "lasso_coefs_two = np.empty((lasso_lambdas.shape[0], X_train.shape[1]))\n",
    "\n",
    "lasso_two = Lasso()\n",
    "for i in range(0,22):\n",
    "    lasso_two.set_params(alpha = lasso_lambdas[i])\n",
    "    lasso_two.fit(X_train, y_train)\n",
    "    lasso_coefs_two[i] = lasso_two.coef_\n",
    "for i in range(0,13):\n",
    "    name = \"feature \"+str(i)\n",
    "    plt.plot(lasso_exps_two, lasso_coefs_two[:,i], label = name)\n",
    "plt.xlabel(\"Log Lambda\")\n",
    "plt.ylabel(\"Coef\")\n",
    "plt.legend(loc = 'right', bbox_to_anchor=(1.3, 0.5))"
   ]
  },
  {
   "cell_type": "markdown",
   "metadata": {},
   "source": [
    "[**input**]"
   ]
  }
 ],
 "metadata": {
  "kernelspec": {
   "display_name": "Python 3",
   "language": "python",
   "name": "python3"
  },
  "language_info": {
   "codemirror_mode": {
    "name": "ipython",
    "version": 3
   },
   "file_extension": ".py",
   "mimetype": "text/x-python",
   "name": "python",
   "nbconvert_exporter": "python",
   "pygments_lexer": "ipython3",
   "version": "3.7.2"
  }
 },
 "nbformat": 4,
 "nbformat_minor": 2
}
