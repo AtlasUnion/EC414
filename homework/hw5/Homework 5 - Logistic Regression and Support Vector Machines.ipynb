{
 "cells": [
  {
   "cell_type": "markdown",
   "metadata": {},
   "source": [
    "# Homework 5: Logistic Regression and Support Vector Machines\n",
    "\n",
    "by Natalia Frumkin and Karanraj Chauhan with help from B. Kulis, R. Manzelli, and A. Tsiligkardis"
   ]
  },
  {
   "cell_type": "markdown",
   "metadata": {},
   "source": [
    "## Problem 1: SVM Toy Example\n",
    "\n",
    "Given the following two-class data set:\n",
    "\n",
    "**Class -1: **\n",
    "A = (1,1)\n",
    "B = (2,3)\n",
    "\n",
    "**Class +1: **\n",
    "C = (2,5)\n",
    "D = (4,2)\n",
    "\n",
    "<ol type=\"a\">\n",
    "  <li>Plot the data.</li>\n",
    "  <li>Plot the hyperplane described by w = $(3,2)^T, b = -12$</li>\n",
    "  <li>Calculate the $l_2$ distance of data point C from the hyperplane.</li>\n",
    "  <li>Determine if the hyperplane linearly separates the data. Explain.</li>\n",
    "  <li>Calculate the hard margin SVM hyperplane in canonical form.</li>\n",
    "  <li>Which, if any, data points lie on the SVM hyperplane?</li>\n",
    "</ol>"
   ]
  },
  {
   "cell_type": "code",
   "execution_count": 25,
   "metadata": {},
   "outputs": [
    {
     "data": {
      "text/plain": [
       "(-1.35, 6.35, -0.25354120676968356, 5.324365342163355)"
      ]
     },
     "execution_count": 25,
     "metadata": {},
     "output_type": "execute_result"
    },
    {
     "data": {
      "image/png": "[encoded data removed]",
      "text/plain": [
       "<Figure size 432x288 with 1 Axes>"
      ]
     },
     "metadata": {
      "needs_background": "light"
     },
     "output_type": "display_data"
    }
   ],
   "source": [
    "import numpy as np\n",
    "from matplotlib import pyplot as plt\n",
    "\n",
    "def scatter_plot(x_axis, y_axis, x_label, y_label, color, marker, name, title = ''):\n",
    "    plt.scatter(x_axis, y_axis, c = color, marker = marker ,label = name, zorder = 3)\n",
    "    plt.xlabel(x_label)\n",
    "    plt.grid(zorder=0)\n",
    "    plt.ylabel(y_label)\n",
    "    if (title != ''):\n",
    "        plt.title(title)\n",
    "        \n",
    "class_one = [[1,1],[2,3]]\n",
    "class_two = [[2,5],[4,2]]\n",
    "\n",
    "x = np.linspace(-1, 6, 100)\n",
    "w = np.array([3,2])\n",
    "b = -12\n",
    "y = 1/3*(12-2*x)\n",
    "plt.plot(x,y, label = \"hyperplane\")\n",
    "scatter_plot([i[0] for i in class_one], [i[1] for i in class_one], 'x', 'y', 'b', 'x', 'class one')\n",
    "scatter_plot([i[0] for i in class_two], [i[1] for i in class_two], 'x', 'y', 'r', 'x', 'class one')\n",
    "plt.legend(loc = 'right', bbox_to_anchor=(1.3, 0.5))\n",
    "plt.axis('equal')"
   ]
  },
  {
   "cell_type": "markdown",
   "metadata": {},
   "source": [
    "5. \n",
    "<br>\n",
    "Slope = $\\frac{5-2}{2-4} = -\\frac{3}{2} \\rightarrow y = -\\frac{3}{2}*x+b$ \n",
    "<br>\n",
    "to class one: $3=-3+b \\rightarrow b = 6$\n",
    "<br>\n",
    "to class two: $5 = -3+b \\rightarrow b = 8$\n",
    "<br>\n",
    "$\\rightarrow b = 7$\n",
    "<br>\n",
    "$\\rightarrow y = -\\frac{3}{2}*x+7$"
   ]
  },
  {
   "cell_type": "markdown",
   "metadata": {},
   "source": [
    "3.\n",
    "<br>\n",
    "$[3,2]*[x,y]^T-12 = 0 \\rightarrow 3x+2y-12=0 \\rightarrow y = 4-\\frac{2}{3}x$\n",
    "<br>\n",
    "line perpendicular to the hyperplane must have form of $y = \\frac{3}{2}x+b$\n",
    "<br>\n",
    "$\\rightarrow 5 = \\frac{3}{2}*2+b \\rightarrow b = 2 \\rightarrow y = \\frac{3}{2}x+2$\n",
    "<br>\n",
    "$\\frac{3}{2}x+2 = -\\frac{2}{3}x+4 \\rightarrow x = \\frac{12}{13}, y = \\frac{44}{13}$\n",
    "<br>\n",
    "$\\rightarrow l_2$ distance from C to hyperplane $= \\sqrt{(2-\\frac{12}{13})^2 + (5-\\frac{44}{13})^2} = \\frac{7}{\\sqrt{13}}$\n",
    "<br>\n",
    "4.\n",
    "<br>\n",
    "The hyperplane does not linearly seperate the data points as it shows on the graph there are some data points belong to different classes reside on the same side of the hyperplane"
   ]
  },
  {
   "cell_type": "markdown",
   "metadata": {},
   "source": [
    "## Problem 2: Logistic Regression"
   ]
  },
  {
   "cell_type": "markdown",
   "metadata": {},
   "source": [
    "<p>In this problem, we will use a logistic regression model to classify emails as \"spam\" (1) or \"non-spam\" (0). Recall that the hypothesis/decision rule in a logistic regression model is given by</p>\n",
    "\n",
    "$$h_\\theta(x) = \\sigma(\\theta^Tx) \\\\ \\text{where } \\sigma  \\text{ is the sigmoid function}$$\n",
    "\n",
    "<p>Since logistic regression does not have a closed form solution, we will use gradient descent to obtain the parameters $\\theta$. We will use the negative log likelihood loss with L2 regularization as the loss function. Mathematically, the loss function $l(\\theta)$ for a given set of parameters $\\theta$ will be,</p>\n",
    "\n",
    "$$l(\\theta) = NLL(\\theta) + \\frac{\\lambda}{2}||\\theta||^2 \\\\ \\text{where } NLL(\\theta) = -\\sum_{i=1}^{n} y_i\\log(h(x_i)) + (1 - y_i)\\log(1 - h(x_i))$$\n",
    "\n",
    "<p>The good news is, you won't have to worry about these equations for implementing gradient descent (hurray!). However, what you will need is the gradient or the derivative of the loss function. For a given $n$$ x $$d$ matrix $X$ of data, $n$ x $1$ vector of labels (0/1) $y$, and corresponding $n$ x $1$ vector of predictions $\\hat{y}$, the loss function gradient is</p>\n",
    "\n",
    "$$\\nabla l(\\theta) = (\\hat{y} - y)^{T} \\cdot X + \\lambda \\cdot \\theta$$\n",
    "\n",
    "<ol type=\"a\">\n",
    "    <li>Load the dataset file spambase_data.csv using pandas, and then split the dataset into a train set and a test set. Note: train/test ratio of 0.8/0.2 has been known to work, but you are welcome to try other values.</li>\n",
    "    <li>Using the loss gradient equation above, implement gradient descent (use only the train set for this) to find the parameters $\\theta$ of the logistic regression model. Note: $learning$ $rate = 0.00001$, $\\lambda$ = $10$, and $number$ $of$ $steps = 3000$ have been known to give a decent accuracy but you are welcome to try other values, especially for $number$ $of$ $steps$.</li>\n",
    "    <li>Report the correct classification rate (CCR) of the model on train data and test data. The CCR is defined as $$CCR = \\frac{num\\_correct\\_predictions}{num\\_samples}$$</li>   \n",
    "</ol>"
   ]
  },
  {
   "cell_type": "code",
   "execution_count": 68,
   "metadata": {},
   "outputs": [],
   "source": [
    "import numpy as np\n",
    "import pandas as pd\n",
    "from sklearn.model_selection import train_test_split\n",
    "from ipywidgets import FloatProgress\n",
    "from IPython.display import display\n",
    "from sklearn.metrics import accuracy_score"
   ]
  },
  {
   "cell_type": "code",
   "execution_count": 39,
   "metadata": {},
   "outputs": [
    {
     "name": "stdout",
     "output_type": "stream",
     "text": [
      "(4601, 58)\n"
     ]
    }
   ],
   "source": [
    "# read in raw dataset\n",
    "spam_df = pd.read_csv('spambase_data.csv', index_col=None)\n",
    "# split into train and test sets\n",
    "train, test = train_test_split(spam_df, test_size=0.2)\n",
    "# type(spam_df)\n",
    "# print(spam_df)\n",
    "print (spam_df.shape)\n",
    "# spam_df.loc[:, '0':'56']\n",
    "f = FloatProgress(min=0, max = 3000)"
   ]
  },
  {
   "cell_type": "code",
   "execution_count": 64,
   "metadata": {},
   "outputs": [
    {
     "data": {
      "application/vnd.jupyter.widget-view+json": {
       "model_id": "29a1b2ab470e4be787602845c42c4696",
       "version_major": 2,
       "version_minor": 0
      },
      "text/plain": [
       "FloatProgress(value=85.0, max=3000.0)"
      ]
     },
     "metadata": {},
     "output_type": "display_data"
    },
    {
     "name": "stdout",
     "output_type": "stream",
     "text": [
      "          0         1         2         3         4         5         6  \\\n",
      "0 -0.609373 -3.158557 -1.583701  0.923787  0.622023  0.543404  2.369278   \n",
      "\n",
      "          7         8         9  ...        47        48        49        50  \\\n",
      "0  0.980534  0.472822 -1.415555  ... -1.418521 -1.511388 -3.326497 -0.541827   \n",
      "\n",
      "         51        52        53        54        55        56  \n",
      "0  2.341478  1.515615  0.183566 -7.710861  5.743785 -0.445721  \n",
      "\n",
      "[1 rows x 57 columns]\n"
     ]
    }
   ],
   "source": [
    "# fit logistic regression model\n",
    "theta = np.zeros((1,57))\n",
    "X = train.loc[:,'0':'56']\n",
    "Y = np.array(train['57']).reshape(3680,1)\n",
    "display(f)\n",
    "for i in range(3000):\n",
    "    y_pred_prob = np.array(X @ theta.T)\n",
    "    y_pred = np.zeros(y_pred_prob.shape)\n",
    "    for j in range(3680):\n",
    "        if y_pred_prob[j][0] >= 0.5:\n",
    "            y_pred[j][0] = 1\n",
    "        else:\n",
    "            y_pred[j][0] = 0\n",
    "    gradient = (y_pred - Y).T @ X + 10*theta\n",
    "    theta -= (0.00001 * gradient)\n",
    "    f.value += 1\n",
    "print(theta)"
   ]
  },
  {
   "cell_type": "code",
   "execution_count": 78,
   "metadata": {},
   "outputs": [
    {
     "name": "stdout",
     "output_type": "stream",
     "text": [
      "0.7616847826086957\n",
      "0.7307274701411509\n"
     ]
    }
   ],
   "source": [
    "# predict on test data and train data and calculate CCR\n",
    "y_pred_train_prob = np.array(X @ theta.T)\n",
    "y_pred_train = np.zeros((3680,1))\n",
    "for i in range(3680):\n",
    "    if y_pred_train_prob[i][0] >= 0.5:\n",
    "        y_pred_train[i][0] = 1\n",
    "    else:\n",
    "        y_pred_train[i][0] = 0\n",
    "train_ccr = accuracy_score(y_pred_train, Y)\n",
    "print(train_ccr)\n",
    "\n",
    "X_test = test.loc[:,'0':'56']\n",
    "Y_test = np.array(test['57']).reshape(921,1)\n",
    "y_pred_test_prob = np.array(X_test @ theta.T)\n",
    "y_pred_test = np.zeros((921,1))\n",
    "for i in range(921):\n",
    "    if y_pred_test_prob[i][0] >= 0.5:\n",
    "        y_pred_test[i][0] = 1\n",
    "    else:\n",
    "        y_pred_test[i][0] = 0\n",
    "test_ccr = accuracy_score(y_pred_test, Y_test)\n",
    "print(test_ccr)"
   ]
  }
 ],
 "metadata": {
  "kernelspec": {
   "display_name": "Python 3",
   "language": "python",
   "name": "python3"
  },
  "language_info": {
   "codemirror_mode": {
    "name": "ipython",
    "version": 3
   },
   "file_extension": ".py",
   "mimetype": "text/x-python",
   "name": "python",
   "nbconvert_exporter": "python",
   "pygments_lexer": "ipython3",
   "version": "3.7.2"
  }
 },
 "nbformat": 4,
 "nbformat_minor": 2
}
