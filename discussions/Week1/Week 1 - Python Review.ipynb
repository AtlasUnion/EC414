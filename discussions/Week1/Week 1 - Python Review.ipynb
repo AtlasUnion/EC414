{
 "cells": [
  {
   "cell_type": "markdown",
   "metadata": {},
   "source": [
    "# Week 1 Discussion - EC 414 - Python Review\n",
    "\n",
    "Official Python 3.6 documentation: https://docs.python.org/3.6/\n",
    "\n",
    "Official Python tutorial: https://docs.python.org/3/tutorial/\n",
    "\n",
    "Unofficial Python tutorial (slightly easier to navigate than the official one): https://www.w3schools.com/python/\n",
    "\n",
    "Helpful cheat sheets: https://ehmatthes.github.io/pcc/cheatsheets/README.html\n",
    "\n",
    "Topics:  Basics (Importance of indentation [tabs/spaces], Loops, Functions, Lists, Tuples, Dictionaries, indexing, slicing), Numpy, Matplotlib"
   ]
  },
  {
   "cell_type": "markdown",
   "metadata": {},
   "source": [
    "## Basics"
   ]
  },
  {
   "cell_type": "code",
   "execution_count": 3,
   "metadata": {},
   "outputs": [
    {
     "name": "stdout",
     "output_type": "stream",
     "text": [
      "For: \n",
      "63\n",
      "189\n",
      "315\n",
      "441\n",
      "567\n",
      "693\n",
      "819\n",
      "945\n",
      "\n",
      "While: \n",
      "63\n",
      "189\n",
      "315\n",
      "441\n",
      "567\n",
      "693\n",
      "819\n",
      "945\n"
     ]
    }
   ],
   "source": [
    "# Loops:\n",
    "# for, while,...\n",
    "\n",
    "# for: - display all odd numbers in the range [1,1000] that are divisible both by 7 and 9\n",
    "print('For: ')\n",
    "low = 1\n",
    "high = 1000\n",
    "for i in range(low,high):\n",
    "    if (i % 2 == 1) and (i % 7 == 0) and (i % 9 == 0):\n",
    "        print(i)\n",
    "        \n",
    "# while: - display all odd numbers in the range [1,1000] that are divisible both by 7 and 9\n",
    "print('\\nWhile: ')\n",
    "val = low\n",
    "while (val <= high):\n",
    "    if (val % 2 == 1) and (val % 7 == 0) and (val % 9 == 0):\n",
    "        print(val)\n",
    "    val += 1"
   ]
  },
  {
   "cell_type": "code",
   "execution_count": 4,
   "metadata": {},
   "outputs": [
    {
     "name": "stdout",
     "output_type": "stream",
     "text": [
      "Circumfrence: 18.849539999999998\n",
      "Area: 28.274309999999996\n",
      "Diameter 6\n"
     ]
    }
   ],
   "source": [
    "# Functions\n",
    "\n",
    "def circleData(radius):\n",
    "    c = 2*3.14159*radius\n",
    "    a = 3.14159*radius*radius\n",
    "    d = 2*radius\n",
    "    return c,a,d\n",
    "\n",
    "rad = 3\n",
    "[c,a,d] = circleData(rad)\n",
    "# c, a, d = circleData(rad)    # alternate option to unpack into variables and not create a list\n",
    "print('Circumfrence:',c)\n",
    "print('Area:',a)\n",
    "print('Diameter',d)"
   ]
  },
  {
   "cell_type": "code",
   "execution_count": 5,
   "metadata": {},
   "outputs": [
    {
     "name": "stdout",
     "output_type": "stream",
     "text": [
      "3\n",
      "[4, 5]\n",
      "5\n",
      "['hello', [4, 5]]\n",
      "[12, 24, 'no', 222]\n",
      "[12, 24, 'yes', 'no', 222]\n",
      "[12, 24, 'no', 222]\n",
      "[222, 'no', 24, 12]\n",
      "4\n"
     ]
    }
   ],
   "source": [
    "# Lists + Indexing/Slicing\n",
    "# Lists are ordered (have indices) and changeable (can alter content in it)\n",
    "\n",
    "a = [3, 4, 5]\n",
    "b = [3, 'hello', [4, 5], '3', 55]\n",
    "\n",
    "print(a[0])\n",
    "print(b[2])\n",
    "print(b[2][1])\n",
    "print(b[1:3])\n",
    "\n",
    "# List methods ->\n",
    "c = [12, 24, 'no']\n",
    "\n",
    "c.append(222)\n",
    "print(c)\n",
    "\n",
    "c.insert(2, 'yes')\n",
    "print(c)\n",
    "\n",
    "c.pop(2)\n",
    "print(c)\n",
    "\n",
    "c.reverse()\n",
    "print(c)\n",
    "\n",
    "length = len(c)\n",
    "print(length)"
   ]
  },
  {
   "cell_type": "code",
   "execution_count": 6,
   "metadata": {},
   "outputs": [
    {
     "name": "stdout",
     "output_type": "stream",
     "text": [
      "('red', 'green', 12)\n",
      "green\n",
      "3\n"
     ]
    }
   ],
   "source": [
    "# Tuples:\n",
    "# Tuples are ordered (have indices) and unchangeable (cannot alter content in it)\n",
    "\n",
    "d = ('red', 'green', 12)\n",
    "print(d)\n",
    "print(d[1])\n",
    "print(len(d))"
   ]
  },
  {
   "cell_type": "code",
   "execution_count": 7,
   "metadata": {},
   "outputs": [
    {
     "name": "stdout",
     "output_type": "stream",
     "text": [
      "{'Name': 'Susan', 'Age': 22, 'Graduation Year': 2020}\n",
      "Susan\n",
      "3\n",
      "\n",
      " {'Name': 'Daniel', 'Age': 22, 'Graduation Year': 2020} \n",
      "\n",
      "Name : Daniel\n",
      "Age : 22\n",
      "Graduation Year : 2020\n",
      "\n",
      " {'Name': 'Daniel', 'Age': 22, 'Graduation Year': 2020, 'hair': 'bald'} \n",
      "\n",
      "{'Name': 'Daniel', 'Age': 22, 'Graduation Year': 2020}\n"
     ]
    }
   ],
   "source": [
    "# Dictionaries\n",
    "# Dictionaries are unordered and changeable.\n",
    "\n",
    "# keys and values\n",
    "demo_dict = {'Name': 'Susan', 'Age': 22, 'Graduation Year': 2020}\n",
    "print(demo_dict)\n",
    "print(demo_dict['Name'])\n",
    "print(len(demo_dict))\n",
    "\n",
    "# changing content\n",
    "demo_dict['Name'] = 'Daniel'\n",
    "print('\\n', demo_dict, '\\n')\n",
    "\n",
    "# displaying content\n",
    "for x, y in demo_dict.items():\n",
    "  print(x,':', y)\n",
    "\n",
    "# adding/removing content\n",
    "demo_dict['hair'] = 'bald'\n",
    "print('\\n',demo_dict,'\\n')\n",
    "\n",
    "demo_dict.pop('hair')\n",
    "print(demo_dict)"
   ]
  },
  {
   "cell_type": "markdown",
   "metadata": {},
   "source": [
    "## NumPy\n",
    "\n",
    "Official documentation: https://docs.scipy.org/doc/numpy-1.15.0/reference/index.html\n",
    "\n",
    "Helpful cheat sheet: https://s3.amazonaws.com/assets.datacamp.com/blog_assets/Numpy_Python_Cheat_Sheet.pdf\n",
    "\n",
    "The basic object in which arrays and matrices are represented is called an n-dimensional array or _ndarray_. ndarray's can hold data of several data types, the most common ones being float64, float32, float16, int64, int32, int16, uint64, uint32, uint16, bool_, etc. For an exhaustive list of basic data types and information on structured data types, please refer the docs (or talk to a TA!)."
   ]
  },
  {
   "cell_type": "code",
   "execution_count": 6,
   "metadata": {},
   "outputs": [],
   "source": [
    "# MUST. IMPORT. FIRST.\n",
    "import numpy as np"
   ]
  },
  {
   "cell_type": "code",
   "execution_count": 7,
   "metadata": {},
   "outputs": [],
   "source": [
    "# Initialization\n",
    "\n",
    "# create an ndarray of shape (4, 2) and fill it with 0's\n",
    "foo = np.zeros((4, 2))\n",
    "fee = np.zeros((4, 2), dtype=np.uint8)    # can also specify the data type of items in ndarray\n",
    "faa = np.zeros_like(fee)                  # create an ndarray of 0's with shape and dtype same as fee\n",
    "bar = np.ones((4, 2))                     # init ndarray of 1's\n",
    "\n",
    "# create an ndarray of shape (4, 2) and fill it with random values \n",
    "randfoo = np.random.rand(4, 2)                               # floats selected uniformly from [0, 1)\n",
    "randfee = np.random.randint(low=-5, high=10, size=(4, 2))    # integers selected uniformly from [-5, 10)\n",
    "\n",
    "# create an empty ndarray of shape (4, 2) - CAUTION this is unintialized, you will have to initialize it manually some time before use\n",
    "emparr = np.empty((4, 2))"
   ]
  },
  {
   "cell_type": "code",
   "execution_count": 8,
   "metadata": {},
   "outputs": [],
   "source": [
    "# Operations\n",
    "\n",
    "# operands for demo\n",
    "operand1 = np.random.rand(2, 3)\n",
    "operand2 = np.random.rand(2, 3)\n",
    "operand3 = np.random.rand(2, 1)\n",
    "operand4 = np.random.rand(3, 3)\n",
    "operand5 = 7\n",
    "\n",
    "# addition, subtraction - just like scalar variables\n",
    "res = operand1 + operand2    # both operands should be of same shape\n",
    "res = operand1 - operand3    # or shape of one should have a \"1\" where it does not match the shape of other \n",
    "res = operand2 + operand5    # or one of them should be a scalar\n",
    "\n",
    "# elementwise multiplication\n",
    "res = operand3 * operand5    # multiply each value by the scalar operand5\n",
    "res = operand1 * operand2\n",
    "res = np.multiply(operand1, operand2)\n",
    "\n",
    "# matrix multiplication\n",
    "res = operand1 @ operand4\n",
    "res = np.matmul(operand1, operand4)\n",
    "\n",
    "# transpose (i.e., \"flipping dimensions\")\n",
    "resT = res.T\n",
    "resT = res.transpose()\n",
    "resT = np.transpose(res)"
   ]
  },
  {
   "cell_type": "code",
   "execution_count": 9,
   "metadata": {},
   "outputs": [
    {
     "name": "stdout",
     "output_type": "stream",
     "text": [
      "shape of res is (2, 3)\n",
      "shape of res_reshaped is (6,)\n",
      "shape of res_reshaped is (6,)\n",
      "shape of res_reshaped is (6, 1)\n",
      "shape of res_reshaped is (3, 2)\n",
      "shape of res_reshaped is (3, 2)\n"
     ]
    }
   ],
   "source": [
    "# reshaping - the product of the dimensions before and after must be the same. in this case, 3 * 2 = 6 * 1\n",
    "\n",
    "print(\"shape of res is\", res.shape)\n",
    "res_reshaped = res.reshape(6)\n",
    "print(\"shape of res_reshaped is\", res_reshaped.shape)\n",
    "res_reshaped = res.flatten()           # flatten the array (collapse all dimension into 1)\n",
    "print(\"shape of res_reshaped is\", res_reshaped.shape)\n",
    "res_reshaped = res.reshape(6, 1)\n",
    "print(\"shape of res_reshaped is\", res_reshaped.shape)\n",
    "res_reshaped = res.reshape(3, -1)    # -1 means infer the dimension along that axis\n",
    "print(\"shape of res_reshaped is\", res_reshaped.shape)\n",
    "res_reshaped = res.reshape(-1, 2)    # -1 means infer the dimension along that axis\n",
    "print(\"shape of res_reshaped is\", res_reshaped.shape)"
   ]
  },
  {
   "cell_type": "code",
   "execution_count": 10,
   "metadata": {},
   "outputs": [
    {
     "name": "stdout",
     "output_type": "stream",
     "text": [
      "min of all elements is 0.46146728761112144\n",
      "max values of elements along axis 1 is [1.24845258 1.53976143]\n",
      "mean of all elements is 0.969669283177634\n",
      "std of elements along axis 0 is [0.09147607 0.14565443 0.12226059]\n"
     ]
    }
   ],
   "source": [
    "# Commonly used stats - min, max, mean, std\n",
    "\n",
    "print(\"min of all elements is\", res.min())\n",
    "print(\"max values of elements along axis 1 is\", res.max(axis=1))\n",
    "print(\"mean of all elements is\", res.mean())\n",
    "print(\"std of elements along axis 0 is\", res.std(axis=0))"
   ]
  },
  {
   "cell_type": "markdown",
   "metadata": {},
   "source": [
    "## Matplotlib\n",
    "\n",
    "Official matplotlib.pyplot documentation: https://matplotlib.org/api/_as_gen/matplotlib.pyplot.html#module-matplotlib.pyplot\n",
    "\n",
    "Official tutorial: https://matplotlib.org/tutorials/index.html\n",
    "\n",
    "Helpful cheat sheet: https://s3.amazonaws.com/assets.datacamp.com/blog_assets/Python_Matplotlib_Cheat_Sheet.pdf\n",
    "\n",
    "This is the most commonly used library for making graphs/plots. You will mostly be using the pyploy module of this library. The basic object here is called _figure_. Each figure is divided into one or more _subplots_. Graphs are plotte on _axes_."
   ]
  },
  {
   "cell_type": "code",
   "execution_count": 9,
   "metadata": {},
   "outputs": [],
   "source": [
    "# MUST. IMPORT. FIRST.\n",
    "from matplotlib import pyplot as plt"
   ]
  },
  {
   "cell_type": "code",
   "execution_count": 11,
   "metadata": {},
   "outputs": [
    {
     "data": {
      "image/png": "[encoded data removed]",
      "text/plain": [
       "<Figure size 432x288 with 4 Axes>"
      ]
     },
     "metadata": {},
     "output_type": "display_data"
    }
   ],
   "source": [
    "# dummy data to plot\n",
    "x = [i for i in range(10)]\n",
    "y = [i**2 for i in x]\n",
    "# print(x)\n",
    "# print(y)\n",
    "\n",
    "# initalize figure\n",
    "fig = plt.figure()\n",
    "\n",
    "# add 4 subplots. the argument of add_subplot is row-col-index. i.e. 223 means 2nd row 2nd column figure number 3\n",
    "fig.add_axes()\n",
    "ax1 = fig.add_subplot(221)\n",
    "ax2 = fig.add_subplot(222)\n",
    "ax3 = fig.add_subplot(223)\n",
    "ax4 = fig.add_subplot(224)\n",
    "\n",
    "# draw various plots on the axes\n",
    "ax1.scatter(x, y)    # scatter plot\n",
    "ax2.plot(x, y)       # line plot\n",
    "ax3.bar(x, y)        # bar plot\n",
    "ax4.hist(y, bins=20) # histogram\n",
    "\n",
    "# add metadata like title, labels, legends, etc\n",
    "ax1.set(title='Fig 1', yticks=[0, 20, 40, 60, 80, 100])                   # manually set y ticks\n",
    "ax2.set(title='Fig 2', xlabel='Days Into Semester', ylabel='Motivation')  # add labels on x and y axes\n",
    "ax3.set(title='Fig 3')\n",
    "ax4.set(title='Fig 4')\n",
    "\n",
    "# display figure\n",
    "plt.tight_layout()    # to prevent overlapping of subplot titles with axis ticks \n",
    "plt.show()            # display figure"
   ]
  },
  {
   "cell_type": "markdown",
   "metadata": {},
   "source": [
    "## Things to come...\n",
    "* TensorFlow\n",
    "* SciPy"
   ]
  },
  {
   "cell_type": "code",
   "execution_count": null,
   "metadata": {},
   "outputs": [],
   "source": []
  }
 ],
 "metadata": {
  "kernelspec": {
   "display_name": "Python 3",
   "language": "python",
   "name": "python3"
  },
  "language_info": {
   "codemirror_mode": {
    "name": "ipython",
    "version": 3
   },
   "file_extension": ".py",
   "mimetype": "text/x-python",
   "name": "python",
   "nbconvert_exporter": "python",
   "pygments_lexer": "ipython3",
   "version": "3.6.6"
  }
 },
 "nbformat": 4,
 "nbformat_minor": 2
}
