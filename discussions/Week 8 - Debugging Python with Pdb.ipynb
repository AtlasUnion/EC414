{
 "cells": [
  {
   "cell_type": "markdown",
   "metadata": {},
   "source": [
    "# Week 8 - Debugging Python with pdb\n",
    "\n",
    "pdb is an interactive debugger for python. It allows you to set breakpoints, single step through code, evaluate values during runtime, keep track of variables as they change value, and lots more. If you are familiar with other debuggers such as gdb, lldb, or debuggers in some IDEs, then this may seem very familiar. It will make your life, at least in the context of this course, a whole lot easier."
   ]
  },
  {
   "cell_type": "code",
   "execution_count": null,
   "metadata": {},
   "outputs": [],
   "source": [
    "# must import first before we start fiddling\n",
    "import pdb"
   ]
  },
  {
   "cell_type": "markdown",
   "metadata": {},
   "source": [
    "**1. Breakpoints** These are \"pausing places\" in the code, manually set by the programmer. When execution reaches this point, it will be paused and the pdb interactive prompt will appear. For example, if a breakpoint is set at line number 11, execution will begin as normal and pause just after executing line number 10.\n",
    "\n",
    "In pdb, the **first** breakpoint must be set by calling `pdb.set_trace()` on the line where you want to pause execution. This essentially \"invokes\" the pdb shell. Then, you can add breakpoints using one or more of the following:\n",
    "\n",
    "a. To break on a line (e.g. line 13) - `break 13`<br>\n",
    "b. To break on a function call (i.e. right before the function starts execution) - `break funcname`\n",
    "\n",
    "Note: Breakpoints cannot be set on empty lines or lines that contain only comments.\n",
    "\n",
    "**2. Next** Once the pdb interactive prompt is active, you can step through the code line by line, using the command `next` or simply `n`\n",
    "\n",
    "**3. Continue** You can continue execution (multiple lines) till you \"hit\" a breakpoint, using the command `continue` or `c`. This is equivalent to hitting `n` until you reach a breakpoint.\n",
    "\n",
    "**4. Print** At any time, you can print the values of variables in the current \"context\" (stack frame) using the command `print` or `p`. E.g. to print a variable foo, one might type `p foo`.\n",
    "\n",
    "**5. Quit** To exit the debugger, use the command `quit` or `q`. If you are done debugging, remove all occurences of `pdb.set_trace()` as well."
   ]
  },
  {
   "cell_type": "code",
   "execution_count": 4,
   "metadata": {},
   "outputs": [
    {
     "name": "stdout",
     "output_type": "stream",
     "text": [
      "According to first function, the square of 3 is 6\n",
      "According to second function, the square of 3 is 16\n"
     ]
    }
   ],
   "source": [
    "def suspicious_square(foo):\n",
    "    original = foo\n",
    "    result = original * 2\n",
    "    return result\n",
    "\n",
    "def another_suspicious_square(foo):\n",
    "    original = foo + 1\n",
    "    result = original ** 2\n",
    "    return result\n",
    "\n",
    "# pdb.set_trace()    # UNCOMMENT THIS TO BEGIN DEBUGGING. THEN FOLLOW STEPS SHOWN IN COMMENTS IN LINES 16-19\n",
    "\n",
    "# dummy value to test functions\n",
    "testnum = 3\n",
    "\n",
    "# 1. Show how to break at lines - break 2\n",
    "# 2. Type 'c' to continue till breakpoint\n",
    "# 3. Step through the function using 'n', print values using 'p' as you go\n",
    "# 4. Find the line where the error is (line 3)\n",
    "res1 = suspicious_square(testnum)\n",
    "print('According to first function, the square of {} is {}'.format(testnum, res1))\n",
    "\n",
    "# 1. Show how to break at function defs - break another_suspicious_square\n",
    "# 2. Type 'c' to continue till breakpoint\n",
    "# 3. Step through the function using 'n', print values using 'p' as you go\n",
    "# 4. Find the line where the error is (line 7)\n",
    "res2 = another_suspicious_square(testnum)\n",
    "print('According to second function, the square of {} is {}'.format(testnum, res2))"
   ]
  },
  {
   "cell_type": "markdown",
   "metadata": {},
   "source": [
    "### Where Pdb really shines\n",
    "You can do more than just print - you can type and **execute** python code that uses variables in the current stack frame. This is where pdb really shines."
   ]
  },
  {
   "cell_type": "code",
   "execution_count": 5,
   "metadata": {},
   "outputs": [],
   "source": [
    "import numpy as np\n",
    "import pandas as pd"
   ]
  },
  {
   "cell_type": "code",
   "execution_count": 6,
   "metadata": {},
   "outputs": [],
   "source": [
    "# auxiliary code\n",
    "X = np.random.rand(10, 2)    # dummy data matrix\n",
    "y = np.ones((1, 10))         # dummy labels vector\n",
    "alpha = 0.5\n",
    "learning_rate = 0.001"
   ]
  },
  {
   "cell_type": "code",
   "execution_count": 10,
   "metadata": {},
   "outputs": [
    {
     "ename": "ValueError",
     "evalue": "non-broadcastable output operand with shape (1,2) doesn't match the broadcast shape (10,2)",
     "output_type": "error",
     "traceback": [
      "\u001b[0;31m---------------------------------------------------------------------------\u001b[0m",
      "\u001b[0;31mValueError\u001b[0m                                Traceback (most recent call last)",
      "\u001b[0;32m<ipython-input-10-79d16221838a>\u001b[0m in \u001b[0;36m<module>\u001b[0;34m\u001b[0m\n\u001b[1;32m     19\u001b[0m     \u001b[0mnll_l2_grad\u001b[0m \u001b[0;34m=\u001b[0m  \u001b[0mnll_grad\u001b[0m \u001b[0;34m+\u001b[0m \u001b[0ml2_grad\u001b[0m\u001b[0;34m\u001b[0m\u001b[0;34m\u001b[0m\u001b[0m\n\u001b[1;32m     20\u001b[0m \u001b[0;34m\u001b[0m\u001b[0m\n\u001b[0;32m---> 21\u001b[0;31m     \u001b[0mw\u001b[0m \u001b[0;34m-=\u001b[0m \u001b[0mlearning_rate\u001b[0m \u001b[0;34m*\u001b[0m \u001b[0mnll_l2_grad\u001b[0m\u001b[0;34m\u001b[0m\u001b[0;34m\u001b[0m\u001b[0m\n\u001b[0m",
      "\u001b[0;31mValueError\u001b[0m: non-broadcastable output operand with shape (1,2) doesn't match the broadcast shape (10,2)"
     ]
    }
   ],
   "source": [
    "# Run this block without pdb to see if it works\n",
    "# pdb.set_trace()    # UNCOMMENT THIS TO BEGIN. THEN TYPE BREAK 15. THEN TYPE C.\n",
    "\n",
    "# 1. Try stepping through (n) each line in for loop - it will error out on the first line\n",
    "#    Realizing that the shapes don't match for dot product `X @ w`, try some \"fixes\".\n",
    "#    a. Type `ans = X @ w**2`. Did this work? No? Go to b.\n",
    "#    b. Type `ans = X @ 1/w`. Did this work? No? Go to c.\n",
    "#    c. Type `ans = X @ w.T`. Did this work? Is the shape (10, 1). Yay! Bug found.\n",
    "# 2. Continue to look for the second bug. Once you are on line `nll_grad = (y_pred - y).T @ X`,\n",
    "#    check if the shape is (1,2). It's not. So print shapes of y_pred, y and realize their shapes are different.\n",
    "#    Try fixing this by flipping y. Type `ans = (y_pred - y.T).T @ X`.\n",
    "#    Does this work? Yay! Bug found. Now go back in code and fix y to be of shape (10, 1) instead.\n",
    "w = np.random.rand(1, 2)\n",
    "for i in range(100):\n",
    "    y_pred = X @ w                   # should be shape (10, 1). solution: w.T\n",
    "    \n",
    "    nll_grad = (y_pred - y).T @ X      # should be shape (1, 2). solution: change y from (1,10) to (10,1) in cell above\n",
    "    l2_grad = alpha * w\n",
    "    nll_l2_grad =  nll_grad + l2_grad\n",
    "    \n",
    "    w -= learning_rate * nll_l2_grad"
   ]
  },
  {
   "cell_type": "markdown",
   "metadata": {},
   "source": [
    "### For more advanced capabilities that could speed up the debugging process, see the documentation. (Special mention commands: step, return, list, display)"
   ]
  },
  {
   "cell_type": "code",
   "execution_count": null,
   "metadata": {},
   "outputs": [],
   "source": []
  }
 ],
 "metadata": {
  "kernelspec": {
   "display_name": "Python 3",
   "language": "python",
   "name": "python3"
  },
  "language_info": {
   "codemirror_mode": {
    "name": "ipython",
    "version": 3
   },
   "file_extension": ".py",
   "mimetype": "text/x-python",
   "name": "python",
   "nbconvert_exporter": "python",
   "pygments_lexer": "ipython3",
   "version": "3.6.8"
  }
 },
 "nbformat": 4,
 "nbformat_minor": 2
}
